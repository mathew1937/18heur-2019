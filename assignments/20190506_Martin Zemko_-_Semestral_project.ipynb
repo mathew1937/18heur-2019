{
 "cells": [
  {
   "cell_type": "markdown",
   "metadata": {},
   "source": [
    "# Mixed heuristic approach\n",
    "\n",
    "## Fast Simulated Annealing (FSA) & Genetic Optimization (GO)\n",
    "\n",
    "### Author: Martin Zemko, HEUR, 2019"
   ]
  },
  {
   "cell_type": "markdown",
   "metadata": {},
   "source": [
    "### Set Cover Problem\n",
    "What is the set cover problem?\n",
    "Idea:\n",
    "“You must select a minimum number [of any size set] of these sets so that the sets you have picked contain all the elements that are contained in any of the sets in the input (wikipedia).” \n",
    "Additionally, you want to minimize the cost of the sets.\n",
    "\n",
    "This task can be treated as a binary problem of linear programming, and its evaluation function is as follows:\n",
    "\n",
    "$$f(x) = \\sum_{i=1}^{m} x_i + \\sum_{j=1}^{n} \\lambda_i \\cdot \\mathrm{max} \\left(1 - \\sum_{k=1}^{m} S_{jk} \\cdot x_k; 0 \\right)$$\n",
    "\n",
    "where\n",
    "\n",
    "* m - set count\n",
    "* n - point count\n",
    "\n",
    "<img src=\"img/scp.png\">"
   ]
  },
  {
   "cell_type": "code",
   "execution_count": 1,
   "metadata": {},
   "outputs": [],
   "source": [
    "# Setting up enivironment\n",
    "# Import path to source directory (bit of a hack in Jupyter)\n",
    "import sys\n",
    "import os\n",
    "pwd = %pwd\n",
    "sys.path.append(os.path.join(pwd, os.path.join('..', 'src')))\n",
    "\n",
    "# Ensure modules are reloaded on any change (very useful when developing code on the fly)\n",
    "%load_ext autoreload\n",
    "%autoreload 2"
   ]
  },
  {
   "cell_type": "code",
   "execution_count": 2,
   "metadata": {},
   "outputs": [],
   "source": [
    "# Import external librarires\n",
    "import numpy as np\n",
    "import pandas as pd\n",
    "from tqdm import tqdm_notebook\n",
    "\n",
    "import matplotlib\n",
    "%matplotlib notebook\n",
    "import matplotlib.pyplot as plt\n",
    "import seaborn as sns\n",
    "sns.set()"
   ]
  },
  {
   "cell_type": "code",
   "execution_count": 3,
   "metadata": {},
   "outputs": [],
   "source": [
    "# Inicialization of evaluating functions\n",
    "def rel(x):\n",
    "    return len([n for n in x if n < np.inf])/len(x)\n",
    "def mne(x):\n",
    "    return np.mean([n for n in x if n < np.inf])\n",
    "def feo(x):\n",
    "    return mne(x)/rel(x)\n",
    "def go_boost(x):\n",
    "    return np.sum(x) / len(x)"
   ]
  },
  {
   "cell_type": "markdown",
   "metadata": {},
   "source": [
    "Initialization of the **Set Cover Problem** task with paramters as follows:\n",
    "**``SCP(setCount=16, pointCount=16)``**\n",
    "\n",
    "This task has 2^16 = 65 536 possible states"
   ]
  },
  {
   "cell_type": "code",
   "execution_count": 4,
   "metadata": {},
   "outputs": [],
   "source": [
    "# Import our code\n",
    "from objfun_scp import SCP\n",
    "scp = SCP(setCount=16, pointCount=16)"
   ]
  },
  {
   "cell_type": "markdown",
   "metadata": {},
   "source": [
    "## Random Shooting and Steepest Descent heuristic"
   ]
  },
  {
   "cell_type": "code",
   "execution_count": 5,
   "metadata": {},
   "outputs": [],
   "source": [
    "from heur_sg import ShootAndGo"
   ]
  },
  {
   "cell_type": "code",
   "execution_count": 7,
   "metadata": {},
   "outputs": [],
   "source": [
    "NUM_RUNS = 100\n",
    "maxeval = 1000"
   ]
  },
  {
   "cell_type": "code",
   "execution_count": 8,
   "metadata": {},
   "outputs": [],
   "source": [
    "def experiment_sg(of, maxeval, num_runs, hmax):\n",
    "    results = []\n",
    "    for i in tqdm_notebook(range(num_runs), 'Testing hmax={}'.format(hmax)):\n",
    "        result = ShootAndGo(of, maxeval=maxeval, hmax=hmax).search() # dict with results of one run\n",
    "        result['run'] = i\n",
    "        result['heur'] = 'SG_{}'.format(hmax) # name of the heuristic\n",
    "        result['hmax'] = hmax\n",
    "        results.append(result)\n",
    "    \n",
    "    return pd.DataFrame(results, columns=['heur', 'run', 'hmax', 'best_x', 'best_y', 'neval'])"
   ]
  },
  {
   "cell_type": "code",
   "execution_count": 9,
   "metadata": {},
   "outputs": [
    {
     "data": {
      "application/vnd.jupyter.widget-view+json": {
       "model_id": "36d7aa06fa8f40d4b3240d7dbaa4f2b1",
       "version_major": 2,
       "version_minor": 0
      },
      "text/plain": [
       "HBox(children=(IntProgress(value=0, description='Testing hmax=0', style=ProgressStyle(description_width='initi…"
      ]
     },
     "metadata": {},
     "output_type": "display_data"
    },
    {
     "name": "stdout",
     "output_type": "stream",
     "text": [
      "\n"
     ]
    },
    {
     "data": {
      "application/vnd.jupyter.widget-view+json": {
       "model_id": "f605167fa5654ba59cd1d801a84da1cb",
       "version_major": 2,
       "version_minor": 0
      },
      "text/plain": [
       "HBox(children=(IntProgress(value=0, description='Testing hmax=inf', style=ProgressStyle(description_width='ini…"
      ]
     },
     "metadata": {},
     "output_type": "display_data"
    },
    {
     "name": "stdout",
     "output_type": "stream",
     "text": [
      "\n"
     ]
    }
   ],
   "source": [
    "results_sg = pd.DataFrame()\n",
    "for hmax in [0, np.inf]:\n",
    "    res = experiment_sg(of=scp, maxeval=maxeval, num_runs=NUM_RUNS, hmax=hmax)\n",
    "    results_sg = pd.concat([results_sg, res], axis=0)"
   ]
  },
  {
   "cell_type": "code",
   "execution_count": 10,
   "metadata": {},
   "outputs": [
    {
     "data": {
      "text/html": [
       "<div>\n",
       "<style scoped>\n",
       "    .dataframe tbody tr th:only-of-type {\n",
       "        vertical-align: middle;\n",
       "    }\n",
       "\n",
       "    .dataframe tbody tr th {\n",
       "        vertical-align: top;\n",
       "    }\n",
       "\n",
       "    .dataframe thead th {\n",
       "        text-align: right;\n",
       "    }\n",
       "</style>\n",
       "<table border=\"1\" class=\"dataframe\">\n",
       "  <thead>\n",
       "    <tr style=\"text-align: right;\">\n",
       "      <th></th>\n",
       "      <th>heur</th>\n",
       "      <th>feo</th>\n",
       "      <th>mne</th>\n",
       "      <th>rel</th>\n",
       "    </tr>\n",
       "  </thead>\n",
       "  <tbody>\n",
       "    <tr>\n",
       "      <th>0</th>\n",
       "      <td>SG_0</td>\n",
       "      <td>2121.440000</td>\n",
       "      <td>530.360000</td>\n",
       "      <td>0.25</td>\n",
       "    </tr>\n",
       "    <tr>\n",
       "      <th>1</th>\n",
       "      <td>SG_inf</td>\n",
       "      <td>255.024997</td>\n",
       "      <td>252.474747</td>\n",
       "      <td>0.99</td>\n",
       "    </tr>\n",
       "  </tbody>\n",
       "</table>\n",
       "</div>"
      ],
      "text/plain": [
       "     heur          feo         mne   rel\n",
       "0    SG_0  2121.440000  530.360000  0.25\n",
       "1  SG_inf   255.024997  252.474747  0.99"
      ]
     },
     "execution_count": 10,
     "metadata": {},
     "output_type": "execute_result"
    }
   ],
   "source": [
    "stats_sg = results_sg.pivot_table(\n",
    "    index=['heur'],\n",
    "    values=['neval'],\n",
    "    aggfunc=(rel, mne, feo)\n",
    ")['neval']\n",
    "stats_sg = stats_sg.reset_index()\n",
    "stats_sg"
   ]
  },
  {
   "cell_type": "markdown",
   "metadata": {},
   "source": [
    "## Fast Simulated Annealing heuristic"
   ]
  },
  {
   "cell_type": "code",
   "execution_count": 11,
   "metadata": {},
   "outputs": [],
   "source": [
    "from heur_fsa import FastSimulatedAnnealing\n",
    "from heur_aux import BinaryMutation, Correction"
   ]
  },
  {
   "cell_type": "code",
   "execution_count": 12,
   "metadata": {},
   "outputs": [],
   "source": [
    "NUM_RUNS = 100\n",
    "maxeval = 1000"
   ]
  },
  {
   "cell_type": "code",
   "execution_count": 13,
   "metadata": {},
   "outputs": [],
   "source": [
    "def experiment_fsa(of, maxeval, num_runs, T0, n0, alpha, p):\n",
    "    results = []\n",
    "    for i in tqdm_notebook(range(num_runs), 'Testing T0={}, n0={}, alpha={}, p={}'.format(T0, n0, alpha, p)):\n",
    "        mut = BinaryMutation(p=p, correction=Correction(of))\n",
    "        result = FastSimulatedAnnealing(of, maxeval=maxeval, T0=T0, n0=n0, alpha=alpha, mutation=mut).search()\n",
    "        result['run'] = i\n",
    "        result['heur'] = 'FSA_{}_{}_{}_{}'.format(T0, n0, alpha, p) # name of the heuristic\n",
    "        result['T0'] = T0\n",
    "        result['n0'] = n0\n",
    "        result['alpha'] = alpha\n",
    "        result['p'] = p\n",
    "        results.append(result)\n",
    "    \n",
    "    return pd.DataFrame(results, columns=['heur', 'run', 'T0', 'n0', 'alpha', 'p', 'best_x', 'best_y', 'neval'])"
   ]
  },
  {
   "cell_type": "markdown",
   "metadata": {},
   "source": [
    "### Optimization of the initial temperature T0"
   ]
  },
  {
   "cell_type": "code",
   "execution_count": 14,
   "metadata": {},
   "outputs": [
    {
     "data": {
      "application/vnd.jupyter.widget-view+json": {
       "model_id": "e0985967018d41a89470dc8494556d69",
       "version_major": 2,
       "version_minor": 0
      },
      "text/plain": [
       "HBox(children=(IntProgress(value=0, description='Testing T0=1e-10, n0=1, alpha=1, p=0.1', style=ProgressStyle(…"
      ]
     },
     "metadata": {},
     "output_type": "display_data"
    },
    {
     "name": "stdout",
     "output_type": "stream",
     "text": [
      "\n"
     ]
    },
    {
     "data": {
      "application/vnd.jupyter.widget-view+json": {
       "model_id": "abe09a2f113f422c871da299b5220863",
       "version_major": 2,
       "version_minor": 0
      },
      "text/plain": [
       "HBox(children=(IntProgress(value=0, description='Testing T0=0.01, n0=1, alpha=1, p=0.1', style=ProgressStyle(d…"
      ]
     },
     "metadata": {},
     "output_type": "display_data"
    },
    {
     "name": "stdout",
     "output_type": "stream",
     "text": [
      "\n"
     ]
    },
    {
     "data": {
      "application/vnd.jupyter.widget-view+json": {
       "model_id": "d6dcddfa4bfb417a9e9c38dc6b2678b5",
       "version_major": 2,
       "version_minor": 0
      },
      "text/plain": [
       "HBox(children=(IntProgress(value=0, description='Testing T0=1, n0=1, alpha=1, p=0.1', style=ProgressStyle(desc…"
      ]
     },
     "metadata": {},
     "output_type": "display_data"
    },
    {
     "name": "stdout",
     "output_type": "stream",
     "text": [
      "\n"
     ]
    },
    {
     "data": {
      "application/vnd.jupyter.widget-view+json": {
       "model_id": "0d7c805c25824c5bb52bf15087c32510",
       "version_major": 2,
       "version_minor": 0
      },
      "text/plain": [
       "HBox(children=(IntProgress(value=0, description='Testing T0=inf, n0=1, alpha=1, p=0.1', style=ProgressStyle(de…"
      ]
     },
     "metadata": {},
     "output_type": "display_data"
    },
    {
     "name": "stdout",
     "output_type": "stream",
     "text": [
      "\n"
     ]
    }
   ],
   "source": [
    "results_fsa = pd.DataFrame()\n",
    "for T0 in [1e-10, 1e-2, 1, np.inf]:\n",
    "    res = experiment_fsa(of=scp, maxeval=maxeval, num_runs=NUM_RUNS, T0=T0, n0=1, alpha=1, p=0.10)\n",
    "    results_fsa = pd.concat([results_fsa, res], axis=0)"
   ]
  },
  {
   "cell_type": "code",
   "execution_count": 15,
   "metadata": {},
   "outputs": [
    {
     "data": {
      "text/html": [
       "<div>\n",
       "<style scoped>\n",
       "    .dataframe tbody tr th:only-of-type {\n",
       "        vertical-align: middle;\n",
       "    }\n",
       "\n",
       "    .dataframe tbody tr th {\n",
       "        vertical-align: top;\n",
       "    }\n",
       "\n",
       "    .dataframe thead th {\n",
       "        text-align: right;\n",
       "    }\n",
       "</style>\n",
       "<table border=\"1\" class=\"dataframe\">\n",
       "  <thead>\n",
       "    <tr style=\"text-align: right;\">\n",
       "      <th></th>\n",
       "      <th>heur</th>\n",
       "      <th>T0</th>\n",
       "      <th>feo</th>\n",
       "      <th>mne</th>\n",
       "      <th>rel</th>\n",
       "    </tr>\n",
       "  </thead>\n",
       "  <tbody>\n",
       "    <tr>\n",
       "      <th>0</th>\n",
       "      <td>FSA_0.01_1_1_0.1</td>\n",
       "      <td>1.000000e-02</td>\n",
       "      <td>118.340000</td>\n",
       "      <td>118.340000</td>\n",
       "      <td>1.00</td>\n",
       "    </tr>\n",
       "    <tr>\n",
       "      <th>1</th>\n",
       "      <td>FSA_1_1_1_0.1</td>\n",
       "      <td>1.000000e+00</td>\n",
       "      <td>117.050000</td>\n",
       "      <td>117.050000</td>\n",
       "      <td>1.00</td>\n",
       "    </tr>\n",
       "    <tr>\n",
       "      <th>2</th>\n",
       "      <td>FSA_1e-10_1_1_0.1</td>\n",
       "      <td>1.000000e-10</td>\n",
       "      <td>119.400000</td>\n",
       "      <td>119.400000</td>\n",
       "      <td>1.00</td>\n",
       "    </tr>\n",
       "    <tr>\n",
       "      <th>3</th>\n",
       "      <td>FSA_inf_1_1_0.1</td>\n",
       "      <td>inf</td>\n",
       "      <td>2740.720222</td>\n",
       "      <td>520.736842</td>\n",
       "      <td>0.19</td>\n",
       "    </tr>\n",
       "  </tbody>\n",
       "</table>\n",
       "</div>"
      ],
      "text/plain": [
       "                heur            T0          feo         mne   rel\n",
       "0   FSA_0.01_1_1_0.1  1.000000e-02   118.340000  118.340000  1.00\n",
       "1      FSA_1_1_1_0.1  1.000000e+00   117.050000  117.050000  1.00\n",
       "2  FSA_1e-10_1_1_0.1  1.000000e-10   119.400000  119.400000  1.00\n",
       "3    FSA_inf_1_1_0.1           inf  2740.720222  520.736842  0.19"
      ]
     },
     "execution_count": 15,
     "metadata": {},
     "output_type": "execute_result"
    }
   ],
   "source": [
    "stats_fsa = results_fsa.pivot_table(\n",
    "    index=['heur', 'T0'],\n",
    "    values=['neval'],\n",
    "    aggfunc=(rel, mne, feo)\n",
    ")['neval']\n",
    "stats_fsa = stats_fsa.reset_index()\n",
    "stats_fsa.sort_values(by=['T0'])\n",
    "stats_fsa"
   ]
  },
  {
   "cell_type": "markdown",
   "metadata": {},
   "source": [
    "### Optimization of the mutation probability p"
   ]
  },
  {
   "cell_type": "code",
   "execution_count": 16,
   "metadata": {},
   "outputs": [
    {
     "data": {
      "application/vnd.jupyter.widget-view+json": {
       "model_id": "b987d4120b26471d8f47f86eef0bc6d8",
       "version_major": 2,
       "version_minor": 0
      },
      "text/plain": [
       "HBox(children=(IntProgress(value=0, description='Testing T0=1, n0=1, alpha=1, p=0.01', style=ProgressStyle(des…"
      ]
     },
     "metadata": {},
     "output_type": "display_data"
    },
    {
     "name": "stdout",
     "output_type": "stream",
     "text": [
      "\n"
     ]
    },
    {
     "data": {
      "application/vnd.jupyter.widget-view+json": {
       "model_id": "ece5777dfefb419e8598b5878da194e8",
       "version_major": 2,
       "version_minor": 0
      },
      "text/plain": [
       "HBox(children=(IntProgress(value=0, description='Testing T0=1, n0=1, alpha=1, p=0.02', style=ProgressStyle(des…"
      ]
     },
     "metadata": {},
     "output_type": "display_data"
    },
    {
     "name": "stdout",
     "output_type": "stream",
     "text": [
      "\n"
     ]
    },
    {
     "data": {
      "application/vnd.jupyter.widget-view+json": {
       "model_id": "bae664dc41b74c3591ab030a8b34f059",
       "version_major": 2,
       "version_minor": 0
      },
      "text/plain": [
       "HBox(children=(IntProgress(value=0, description='Testing T0=1, n0=1, alpha=1, p=0.05', style=ProgressStyle(des…"
      ]
     },
     "metadata": {},
     "output_type": "display_data"
    },
    {
     "name": "stdout",
     "output_type": "stream",
     "text": [
      "\n"
     ]
    },
    {
     "data": {
      "application/vnd.jupyter.widget-view+json": {
       "model_id": "b7ab5ff53dd441aaaee8e4b9ad1dabef",
       "version_major": 2,
       "version_minor": 0
      },
      "text/plain": [
       "HBox(children=(IntProgress(value=0, description='Testing T0=1, n0=1, alpha=1, p=0.1', style=ProgressStyle(desc…"
      ]
     },
     "metadata": {},
     "output_type": "display_data"
    },
    {
     "name": "stdout",
     "output_type": "stream",
     "text": [
      "\n"
     ]
    },
    {
     "data": {
      "application/vnd.jupyter.widget-view+json": {
       "model_id": "f5c7dae83a814d6b85ede759fe9b4951",
       "version_major": 2,
       "version_minor": 0
      },
      "text/plain": [
       "HBox(children=(IntProgress(value=0, description='Testing T0=1, n0=1, alpha=1, p=0.2', style=ProgressStyle(desc…"
      ]
     },
     "metadata": {},
     "output_type": "display_data"
    },
    {
     "name": "stdout",
     "output_type": "stream",
     "text": [
      "\n"
     ]
    },
    {
     "data": {
      "application/vnd.jupyter.widget-view+json": {
       "model_id": "70873f7b3d5441df9312b847084d76e3",
       "version_major": 2,
       "version_minor": 0
      },
      "text/plain": [
       "HBox(children=(IntProgress(value=0, description='Testing T0=1, n0=1, alpha=1, p=0.5', style=ProgressStyle(desc…"
      ]
     },
     "metadata": {},
     "output_type": "display_data"
    },
    {
     "name": "stdout",
     "output_type": "stream",
     "text": [
      "\n"
     ]
    }
   ],
   "source": [
    "results_fsa = pd.DataFrame()\n",
    "for p in [0.01, 0.02, 0.05, 0.10, 0.20, 0.50]:\n",
    "    res = experiment_fsa(of=scp, maxeval=maxeval, num_runs=NUM_RUNS, T0=1, n0=1, alpha=1, p=p)\n",
    "    results_fsa = pd.concat([results_fsa, res], axis=0)"
   ]
  },
  {
   "cell_type": "code",
   "execution_count": 17,
   "metadata": {},
   "outputs": [
    {
     "data": {
      "text/html": [
       "<div>\n",
       "<style scoped>\n",
       "    .dataframe tbody tr th:only-of-type {\n",
       "        vertical-align: middle;\n",
       "    }\n",
       "\n",
       "    .dataframe tbody tr th {\n",
       "        vertical-align: top;\n",
       "    }\n",
       "\n",
       "    .dataframe thead th {\n",
       "        text-align: right;\n",
       "    }\n",
       "</style>\n",
       "<table border=\"1\" class=\"dataframe\">\n",
       "  <thead>\n",
       "    <tr style=\"text-align: right;\">\n",
       "      <th></th>\n",
       "      <th>heur</th>\n",
       "      <th>p</th>\n",
       "      <th>feo</th>\n",
       "      <th>mne</th>\n",
       "      <th>rel</th>\n",
       "    </tr>\n",
       "  </thead>\n",
       "  <tbody>\n",
       "    <tr>\n",
       "      <th>0</th>\n",
       "      <td>FSA_1_1_1_0.01</td>\n",
       "      <td>0.01</td>\n",
       "      <td>411.045052</td>\n",
       "      <td>357.609195</td>\n",
       "      <td>0.87</td>\n",
       "    </tr>\n",
       "    <tr>\n",
       "      <th>1</th>\n",
       "      <td>FSA_1_1_1_0.02</td>\n",
       "      <td>0.02</td>\n",
       "      <td>250.124948</td>\n",
       "      <td>245.122449</td>\n",
       "      <td>0.98</td>\n",
       "    </tr>\n",
       "    <tr>\n",
       "      <th>2</th>\n",
       "      <td>FSA_1_1_1_0.05</td>\n",
       "      <td>0.05</td>\n",
       "      <td>140.590000</td>\n",
       "      <td>140.590000</td>\n",
       "      <td>1.00</td>\n",
       "    </tr>\n",
       "    <tr>\n",
       "      <th>3</th>\n",
       "      <td>FSA_1_1_1_0.1</td>\n",
       "      <td>0.10</td>\n",
       "      <td>129.950000</td>\n",
       "      <td>129.950000</td>\n",
       "      <td>1.00</td>\n",
       "    </tr>\n",
       "    <tr>\n",
       "      <th>4</th>\n",
       "      <td>FSA_1_1_1_0.2</td>\n",
       "      <td>0.20</td>\n",
       "      <td>145.080000</td>\n",
       "      <td>145.080000</td>\n",
       "      <td>1.00</td>\n",
       "    </tr>\n",
       "    <tr>\n",
       "      <th>5</th>\n",
       "      <td>FSA_1_1_1_0.5</td>\n",
       "      <td>0.50</td>\n",
       "      <td>1981.760000</td>\n",
       "      <td>495.440000</td>\n",
       "      <td>0.25</td>\n",
       "    </tr>\n",
       "  </tbody>\n",
       "</table>\n",
       "</div>"
      ],
      "text/plain": [
       "             heur     p          feo         mne   rel\n",
       "0  FSA_1_1_1_0.01  0.01   411.045052  357.609195  0.87\n",
       "1  FSA_1_1_1_0.02  0.02   250.124948  245.122449  0.98\n",
       "2  FSA_1_1_1_0.05  0.05   140.590000  140.590000  1.00\n",
       "3   FSA_1_1_1_0.1  0.10   129.950000  129.950000  1.00\n",
       "4   FSA_1_1_1_0.2  0.20   145.080000  145.080000  1.00\n",
       "5   FSA_1_1_1_0.5  0.50  1981.760000  495.440000  0.25"
      ]
     },
     "execution_count": 17,
     "metadata": {},
     "output_type": "execute_result"
    }
   ],
   "source": [
    "stats_fsa = results_fsa.pivot_table(\n",
    "    index=['heur', 'p'],\n",
    "    values=['neval'],\n",
    "    aggfunc=(rel, mne, feo)\n",
    ")['neval']\n",
    "stats_fsa = stats_fsa.reset_index()\n",
    "stats_fsa.sort_values(by=['p'])\n",
    "stats_fsa"
   ]
  },
  {
   "cell_type": "markdown",
   "metadata": {},
   "source": [
    "### Optimization of the cooling parameters n0 and alpha"
   ]
  },
  {
   "cell_type": "code",
   "execution_count": 20,
   "metadata": {},
   "outputs": [
    {
     "data": {
      "application/vnd.jupyter.widget-view+json": {
       "model_id": "eb6e1453bf764c5cb2c71b26952d6f99",
       "version_major": 2,
       "version_minor": 0
      },
      "text/plain": [
       "HBox(children=(IntProgress(value=0, description='Testing T0=1, n0=1, alpha=1, p=0.1', style=ProgressStyle(desc…"
      ]
     },
     "metadata": {},
     "output_type": "display_data"
    },
    {
     "name": "stdout",
     "output_type": "stream",
     "text": [
      "\n"
     ]
    },
    {
     "data": {
      "application/vnd.jupyter.widget-view+json": {
       "model_id": "641675e12b6e4f1f8be8b9aae4a76f76",
       "version_major": 2,
       "version_minor": 0
      },
      "text/plain": [
       "HBox(children=(IntProgress(value=0, description='Testing T0=1, n0=2, alpha=1, p=0.1', style=ProgressStyle(desc…"
      ]
     },
     "metadata": {},
     "output_type": "display_data"
    },
    {
     "name": "stdout",
     "output_type": "stream",
     "text": [
      "\n"
     ]
    },
    {
     "data": {
      "application/vnd.jupyter.widget-view+json": {
       "model_id": "08412265dc864feb8a7565c4b00331e9",
       "version_major": 2,
       "version_minor": 0
      },
      "text/plain": [
       "HBox(children=(IntProgress(value=0, description='Testing T0=1, n0=5, alpha=1, p=0.1', style=ProgressStyle(desc…"
      ]
     },
     "metadata": {},
     "output_type": "display_data"
    },
    {
     "name": "stdout",
     "output_type": "stream",
     "text": [
      "\n"
     ]
    },
    {
     "data": {
      "application/vnd.jupyter.widget-view+json": {
       "model_id": "6aa6c55711a04f15a2aced2c3c784fe2",
       "version_major": 2,
       "version_minor": 0
      },
      "text/plain": [
       "HBox(children=(IntProgress(value=0, description='Testing T0=1, n0=10, alpha=1, p=0.1', style=ProgressStyle(des…"
      ]
     },
     "metadata": {},
     "output_type": "display_data"
    },
    {
     "name": "stdout",
     "output_type": "stream",
     "text": [
      "\n"
     ]
    },
    {
     "data": {
      "application/vnd.jupyter.widget-view+json": {
       "model_id": "4c17db64d77245f88ecfe009adb409c8",
       "version_major": 2,
       "version_minor": 0
      },
      "text/plain": [
       "HBox(children=(IntProgress(value=0, description='Testing T0=1, n0=100, alpha=1, p=0.1', style=ProgressStyle(de…"
      ]
     },
     "metadata": {},
     "output_type": "display_data"
    },
    {
     "name": "stdout",
     "output_type": "stream",
     "text": [
      "\n"
     ]
    },
    {
     "data": {
      "application/vnd.jupyter.widget-view+json": {
       "model_id": "53cf1769388542f5928a87af40245404",
       "version_major": 2,
       "version_minor": 0
      },
      "text/plain": [
       "HBox(children=(IntProgress(value=0, description='Testing T0=1, n0=inf, alpha=1, p=0.1', style=ProgressStyle(de…"
      ]
     },
     "metadata": {},
     "output_type": "display_data"
    },
    {
     "name": "stdout",
     "output_type": "stream",
     "text": [
      "\n"
     ]
    }
   ],
   "source": [
    "results_fsa = pd.DataFrame()\n",
    "for n0 in [1, 2, 5, 10, 100, np.inf]:\n",
    "    res = experiment_fsa(of=scp, maxeval=maxeval, num_runs=NUM_RUNS, T0=1, n0=n0, alpha=1, p=0.10)\n",
    "    results_fsa = pd.concat([results_fsa, res], axis=0)"
   ]
  },
  {
   "cell_type": "code",
   "execution_count": 21,
   "metadata": {},
   "outputs": [
    {
     "data": {
      "text/html": [
       "<div>\n",
       "<style scoped>\n",
       "    .dataframe tbody tr th:only-of-type {\n",
       "        vertical-align: middle;\n",
       "    }\n",
       "\n",
       "    .dataframe tbody tr th {\n",
       "        vertical-align: top;\n",
       "    }\n",
       "\n",
       "    .dataframe thead th {\n",
       "        text-align: right;\n",
       "    }\n",
       "</style>\n",
       "<table border=\"1\" class=\"dataframe\">\n",
       "  <thead>\n",
       "    <tr style=\"text-align: right;\">\n",
       "      <th></th>\n",
       "      <th>heur</th>\n",
       "      <th>n0</th>\n",
       "      <th>feo</th>\n",
       "      <th>mne</th>\n",
       "      <th>rel</th>\n",
       "    </tr>\n",
       "  </thead>\n",
       "  <tbody>\n",
       "    <tr>\n",
       "      <th>0</th>\n",
       "      <td>FSA_1_100_1_0.1</td>\n",
       "      <td>100.0</td>\n",
       "      <td>211.970000</td>\n",
       "      <td>211.970000</td>\n",
       "      <td>1.00</td>\n",
       "    </tr>\n",
       "    <tr>\n",
       "      <th>1</th>\n",
       "      <td>FSA_1_10_1_0.1</td>\n",
       "      <td>10.0</td>\n",
       "      <td>131.430000</td>\n",
       "      <td>131.430000</td>\n",
       "      <td>1.00</td>\n",
       "    </tr>\n",
       "    <tr>\n",
       "      <th>2</th>\n",
       "      <td>FSA_1_1_1_0.1</td>\n",
       "      <td>1.0</td>\n",
       "      <td>113.130000</td>\n",
       "      <td>113.130000</td>\n",
       "      <td>1.00</td>\n",
       "    </tr>\n",
       "    <tr>\n",
       "      <th>3</th>\n",
       "      <td>FSA_1_2_1_0.1</td>\n",
       "      <td>2.0</td>\n",
       "      <td>113.650000</td>\n",
       "      <td>113.650000</td>\n",
       "      <td>1.00</td>\n",
       "    </tr>\n",
       "    <tr>\n",
       "      <th>4</th>\n",
       "      <td>FSA_1_5_1_0.1</td>\n",
       "      <td>5.0</td>\n",
       "      <td>114.190000</td>\n",
       "      <td>114.190000</td>\n",
       "      <td>1.00</td>\n",
       "    </tr>\n",
       "    <tr>\n",
       "      <th>5</th>\n",
       "      <td>FSA_1_inf_1_0.1</td>\n",
       "      <td>inf</td>\n",
       "      <td>413.926447</td>\n",
       "      <td>355.976744</td>\n",
       "      <td>0.86</td>\n",
       "    </tr>\n",
       "  </tbody>\n",
       "</table>\n",
       "</div>"
      ],
      "text/plain": [
       "              heur     n0         feo         mne   rel\n",
       "0  FSA_1_100_1_0.1  100.0  211.970000  211.970000  1.00\n",
       "1   FSA_1_10_1_0.1   10.0  131.430000  131.430000  1.00\n",
       "2    FSA_1_1_1_0.1    1.0  113.130000  113.130000  1.00\n",
       "3    FSA_1_2_1_0.1    2.0  113.650000  113.650000  1.00\n",
       "4    FSA_1_5_1_0.1    5.0  114.190000  114.190000  1.00\n",
       "5  FSA_1_inf_1_0.1    inf  413.926447  355.976744  0.86"
      ]
     },
     "execution_count": 21,
     "metadata": {},
     "output_type": "execute_result"
    }
   ],
   "source": [
    "stats_fsa = results_fsa.pivot_table(\n",
    "    index=['heur', 'n0'],\n",
    "    values=['neval'],\n",
    "    aggfunc=(rel, mne, feo)\n",
    ")['neval']\n",
    "stats_fsa = stats_fsa.reset_index()\n",
    "stats_fsa.sort_values(by=['n0'])\n",
    "stats_fsa"
   ]
  },
  {
   "cell_type": "code",
   "execution_count": 26,
   "metadata": {},
   "outputs": [
    {
     "data": {
      "application/vnd.jupyter.widget-view+json": {
       "model_id": "6d0397a31bb841ad98db783db5907f41",
       "version_major": 2,
       "version_minor": 0
      },
      "text/plain": [
       "HBox(children=(IntProgress(value=0, description='Testing T0=1, n0=1, alpha=1e-10, p=0.1', style=ProgressStyle(…"
      ]
     },
     "metadata": {},
     "output_type": "display_data"
    },
    {
     "name": "stdout",
     "output_type": "stream",
     "text": [
      "\n"
     ]
    },
    {
     "data": {
      "application/vnd.jupyter.widget-view+json": {
       "model_id": "429c136aaa2b47c5bc8a73161dba50e6",
       "version_major": 2,
       "version_minor": 0
      },
      "text/plain": [
       "HBox(children=(IntProgress(value=0, description='Testing T0=1, n0=1, alpha=1e-05, p=0.1', style=ProgressStyle(…"
      ]
     },
     "metadata": {},
     "output_type": "display_data"
    },
    {
     "name": "stdout",
     "output_type": "stream",
     "text": [
      "\n"
     ]
    },
    {
     "data": {
      "application/vnd.jupyter.widget-view+json": {
       "model_id": "bdc4d8aa81fc4c17b94d3a25949a1fd6",
       "version_major": 2,
       "version_minor": 0
      },
      "text/plain": [
       "HBox(children=(IntProgress(value=0, description='Testing T0=1, n0=1, alpha=0.01, p=0.1', style=ProgressStyle(d…"
      ]
     },
     "metadata": {},
     "output_type": "display_data"
    },
    {
     "name": "stdout",
     "output_type": "stream",
     "text": [
      "\n"
     ]
    },
    {
     "data": {
      "application/vnd.jupyter.widget-view+json": {
       "model_id": "6f7eb6d010bb4cd392273c9c02b9de80",
       "version_major": 2,
       "version_minor": 0
      },
      "text/plain": [
       "HBox(children=(IntProgress(value=0, description='Testing T0=1, n0=1, alpha=1, p=0.1', style=ProgressStyle(desc…"
      ]
     },
     "metadata": {},
     "output_type": "display_data"
    },
    {
     "name": "stdout",
     "output_type": "stream",
     "text": [
      "\n"
     ]
    },
    {
     "data": {
      "application/vnd.jupyter.widget-view+json": {
       "model_id": "3f646888f3bc4979923b140293c280f1",
       "version_major": 2,
       "version_minor": 0
      },
      "text/plain": [
       "HBox(children=(IntProgress(value=0, description='Testing T0=1, n0=1, alpha=2, p=0.1', style=ProgressStyle(desc…"
      ]
     },
     "metadata": {},
     "output_type": "display_data"
    },
    {
     "name": "stdout",
     "output_type": "stream",
     "text": [
      "\n"
     ]
    },
    {
     "data": {
      "application/vnd.jupyter.widget-view+json": {
       "model_id": "7754761aa8424fb190e3b28255080fe0",
       "version_major": 2,
       "version_minor": 0
      },
      "text/plain": [
       "HBox(children=(IntProgress(value=0, description='Testing T0=1, n0=1, alpha=5, p=0.1', style=ProgressStyle(desc…"
      ]
     },
     "metadata": {},
     "output_type": "display_data"
    },
    {
     "name": "stdout",
     "output_type": "stream",
     "text": [
      "\n"
     ]
    },
    {
     "data": {
      "application/vnd.jupyter.widget-view+json": {
       "model_id": "d1e537f0bb164c918a1f498b5f915cf9",
       "version_major": 2,
       "version_minor": 0
      },
      "text/plain": [
       "HBox(children=(IntProgress(value=0, description='Testing T0=1, n0=1, alpha=10, p=0.1', style=ProgressStyle(des…"
      ]
     },
     "metadata": {},
     "output_type": "display_data"
    },
    {
     "name": "stdout",
     "output_type": "stream",
     "text": [
      "\n"
     ]
    }
   ],
   "source": [
    "results_fsa = pd.DataFrame()\n",
    "for alpha in [1e-10, 1e-5, 1e-2, 1, 2, 5, 10]:\n",
    "    res = experiment_fsa(of=scp, maxeval=maxeval, num_runs=NUM_RUNS, T0=1, n0=1, alpha=alpha, p=0.10)\n",
    "    results_fsa = pd.concat([results_fsa, res], axis=0)"
   ]
  },
  {
   "cell_type": "code",
   "execution_count": 27,
   "metadata": {},
   "outputs": [
    {
     "data": {
      "text/html": [
       "<div>\n",
       "<style scoped>\n",
       "    .dataframe tbody tr th:only-of-type {\n",
       "        vertical-align: middle;\n",
       "    }\n",
       "\n",
       "    .dataframe tbody tr th {\n",
       "        vertical-align: top;\n",
       "    }\n",
       "\n",
       "    .dataframe thead th {\n",
       "        text-align: right;\n",
       "    }\n",
       "</style>\n",
       "<table border=\"1\" class=\"dataframe\">\n",
       "  <thead>\n",
       "    <tr style=\"text-align: right;\">\n",
       "      <th></th>\n",
       "      <th>heur</th>\n",
       "      <th>alpha</th>\n",
       "      <th>feo</th>\n",
       "      <th>mne</th>\n",
       "      <th>rel</th>\n",
       "    </tr>\n",
       "  </thead>\n",
       "  <tbody>\n",
       "    <tr>\n",
       "      <th>0</th>\n",
       "      <td>FSA_1_1_0.01_0.1</td>\n",
       "      <td>1.000000e-02</td>\n",
       "      <td>226.665973</td>\n",
       "      <td>222.132653</td>\n",
       "      <td>0.98</td>\n",
       "    </tr>\n",
       "    <tr>\n",
       "      <th>1</th>\n",
       "      <td>FSA_1_1_10_0.1</td>\n",
       "      <td>1.000000e+01</td>\n",
       "      <td>97.820000</td>\n",
       "      <td>97.820000</td>\n",
       "      <td>1.00</td>\n",
       "    </tr>\n",
       "    <tr>\n",
       "      <th>2</th>\n",
       "      <td>FSA_1_1_1_0.1</td>\n",
       "      <td>1.000000e+00</td>\n",
       "      <td>99.630000</td>\n",
       "      <td>99.630000</td>\n",
       "      <td>1.00</td>\n",
       "    </tr>\n",
       "    <tr>\n",
       "      <th>3</th>\n",
       "      <td>FSA_1_1_1e-05_0.1</td>\n",
       "      <td>1.000000e-05</td>\n",
       "      <td>220.752984</td>\n",
       "      <td>218.545455</td>\n",
       "      <td>0.99</td>\n",
       "    </tr>\n",
       "    <tr>\n",
       "      <th>4</th>\n",
       "      <td>FSA_1_1_1e-10_0.1</td>\n",
       "      <td>1.000000e-10</td>\n",
       "      <td>226.343190</td>\n",
       "      <td>221.816327</td>\n",
       "      <td>0.98</td>\n",
       "    </tr>\n",
       "    <tr>\n",
       "      <th>5</th>\n",
       "      <td>FSA_1_1_2_0.1</td>\n",
       "      <td>2.000000e+00</td>\n",
       "      <td>121.760000</td>\n",
       "      <td>121.760000</td>\n",
       "      <td>1.00</td>\n",
       "    </tr>\n",
       "    <tr>\n",
       "      <th>6</th>\n",
       "      <td>FSA_1_1_5_0.1</td>\n",
       "      <td>5.000000e+00</td>\n",
       "      <td>108.100000</td>\n",
       "      <td>108.100000</td>\n",
       "      <td>1.00</td>\n",
       "    </tr>\n",
       "  </tbody>\n",
       "</table>\n",
       "</div>"
      ],
      "text/plain": [
       "                heur         alpha         feo         mne   rel\n",
       "0   FSA_1_1_0.01_0.1  1.000000e-02  226.665973  222.132653  0.98\n",
       "1     FSA_1_1_10_0.1  1.000000e+01   97.820000   97.820000  1.00\n",
       "2      FSA_1_1_1_0.1  1.000000e+00   99.630000   99.630000  1.00\n",
       "3  FSA_1_1_1e-05_0.1  1.000000e-05  220.752984  218.545455  0.99\n",
       "4  FSA_1_1_1e-10_0.1  1.000000e-10  226.343190  221.816327  0.98\n",
       "5      FSA_1_1_2_0.1  2.000000e+00  121.760000  121.760000  1.00\n",
       "6      FSA_1_1_5_0.1  5.000000e+00  108.100000  108.100000  1.00"
      ]
     },
     "execution_count": 27,
     "metadata": {},
     "output_type": "execute_result"
    }
   ],
   "source": [
    "stats_fsa = results_fsa.pivot_table(\n",
    "    index=['heur', 'alpha'],\n",
    "    values=['neval'],\n",
    "    aggfunc=(rel, mne, feo)\n",
    ")['neval']\n",
    "stats_fsa = stats_fsa.reset_index()\n",
    "stats_fsa.sort_values(by=['alpha'])\n",
    "stats_fsa"
   ]
  },
  {
   "cell_type": "markdown",
   "metadata": {},
   "source": [
    "The optimal FSA parameters are following:\n",
    "* Initial temperature : T0 = 1\n",
    "* Mutation probability: p = 0.10\n",
    "* Cooling parameters  :\n",
    "    - n0 = 1\n",
    "    - alpha = 1"
   ]
  },
  {
   "cell_type": "code",
   "execution_count": 28,
   "metadata": {},
   "outputs": [
    {
     "name": "stdout",
     "output_type": "stream",
     "text": [
      "neval = 31\n",
      "best_x = [1. 0. 0. 0. 0. 0. 1. 0. 0. 0. 0. 0. 0. 0. 1. 0.]\n",
      "best_y = 3.0\n"
     ]
    }
   ],
   "source": [
    "mutation = BinaryMutation(p=0.10, correction=Correction(scp))\n",
    "heur = FastSimulatedAnnealing(of=scp, maxeval=maxeval, T0=1, n0=1, alpha=1, mutation=mutation)\n",
    "heur.reset()\n",
    "result = heur.search()\n",
    "print('neval = {}'.format(result['neval']))\n",
    "print('best_x = {}'.format(result['best_x']))\n",
    "print('best_y = {}'.format(result['best_y']))"
   ]
  },
  {
   "cell_type": "markdown",
   "metadata": {},
   "source": [
    "## Genetic Optimization heuristic\n",
    "Let's optimize the GO heuristic in order to use the results in the mixed heuristic"
   ]
  },
  {
   "cell_type": "code",
   "execution_count": 29,
   "metadata": {},
   "outputs": [],
   "source": [
    "from heur_go import GeneticOptimization, UniformMultipoint\n",
    "from heur_aux import BinaryMutation, Correction"
   ]
  },
  {
   "cell_type": "code",
   "execution_count": 30,
   "metadata": {},
   "outputs": [],
   "source": [
    "NUM_RUNS = 100\n",
    "maxeval = 1000"
   ]
  },
  {
   "cell_type": "markdown",
   "metadata": {},
   "source": [
    "### Optimization of the size of the population"
   ]
  },
  {
   "cell_type": "code",
   "execution_count": 31,
   "metadata": {},
   "outputs": [],
   "source": [
    "def experiment_go(of, maxeval, num_runs, N, M, Tsel1, Tsel2, mutation, crossover):\n",
    "    results = []\n",
    "    heur_name = 'GO_N={}'.format(N)\n",
    "    for i in tqdm_notebook(range(num_runs), 'Testing {}'.format(heur_name)):\n",
    "        result = GeneticOptimization(of, maxeval, N=N, M=M, Tsel1=Tsel1, Tsel2=Tsel2, \n",
    "                                     mutation=mutation, crossover=crossover).search()\n",
    "        result['run'] = i\n",
    "        result['heur'] = heur_name\n",
    "        result['N'] = N\n",
    "        results.append(result)\n",
    "    return pd.DataFrame(results, columns=['heur', 'run', 'N', 'best_x', 'best_y', 'neval'])"
   ]
  },
  {
   "cell_type": "code",
   "execution_count": 32,
   "metadata": {},
   "outputs": [
    {
     "data": {
      "application/vnd.jupyter.widget-view+json": {
       "model_id": "e3664c182b374686949fe0905ab14c97",
       "version_major": 2,
       "version_minor": 0
      },
      "text/plain": [
       "HBox(children=(IntProgress(value=0, description='Testing GO_N=1', style=ProgressStyle(description_width='initi…"
      ]
     },
     "metadata": {},
     "output_type": "display_data"
    },
    {
     "name": "stdout",
     "output_type": "stream",
     "text": [
      "\n"
     ]
    },
    {
     "data": {
      "application/vnd.jupyter.widget-view+json": {
       "model_id": "7b771b81da9446b699ba8f3426192d71",
       "version_major": 2,
       "version_minor": 0
      },
      "text/plain": [
       "HBox(children=(IntProgress(value=0, description='Testing GO_N=2', style=ProgressStyle(description_width='initi…"
      ]
     },
     "metadata": {},
     "output_type": "display_data"
    },
    {
     "name": "stdout",
     "output_type": "stream",
     "text": [
      "\n"
     ]
    },
    {
     "data": {
      "application/vnd.jupyter.widget-view+json": {
       "model_id": "7d2231d28f7940f0a24363b8dd69c5cd",
       "version_major": 2,
       "version_minor": 0
      },
      "text/plain": [
       "HBox(children=(IntProgress(value=0, description='Testing GO_N=3', style=ProgressStyle(description_width='initi…"
      ]
     },
     "metadata": {},
     "output_type": "display_data"
    },
    {
     "name": "stdout",
     "output_type": "stream",
     "text": [
      "\n"
     ]
    },
    {
     "data": {
      "application/vnd.jupyter.widget-view+json": {
       "model_id": "184288e0bf034e78889c0bd81ed31d67",
       "version_major": 2,
       "version_minor": 0
      },
      "text/plain": [
       "HBox(children=(IntProgress(value=0, description='Testing GO_N=5', style=ProgressStyle(description_width='initi…"
      ]
     },
     "metadata": {},
     "output_type": "display_data"
    },
    {
     "name": "stdout",
     "output_type": "stream",
     "text": [
      "\n"
     ]
    },
    {
     "data": {
      "application/vnd.jupyter.widget-view+json": {
       "model_id": "463f339128f54f02be52a6919c0d03c4",
       "version_major": 2,
       "version_minor": 0
      },
      "text/plain": [
       "HBox(children=(IntProgress(value=0, description='Testing GO_N=10', style=ProgressStyle(description_width='init…"
      ]
     },
     "metadata": {},
     "output_type": "display_data"
    },
    {
     "name": "stdout",
     "output_type": "stream",
     "text": [
      "\n"
     ]
    },
    {
     "data": {
      "application/vnd.jupyter.widget-view+json": {
       "model_id": "916acc47929c434899f68f325a2373a8",
       "version_major": 2,
       "version_minor": 0
      },
      "text/plain": [
       "HBox(children=(IntProgress(value=0, description='Testing GO_N=20', style=ProgressStyle(description_width='init…"
      ]
     },
     "metadata": {},
     "output_type": "display_data"
    },
    {
     "name": "stdout",
     "output_type": "stream",
     "text": [
      "\n"
     ]
    },
    {
     "data": {
      "application/vnd.jupyter.widget-view+json": {
       "model_id": "f8b27c4398ca45dc845b61ea0e2603ef",
       "version_major": 2,
       "version_minor": 0
      },
      "text/plain": [
       "HBox(children=(IntProgress(value=0, description='Testing GO_N=30', style=ProgressStyle(description_width='init…"
      ]
     },
     "metadata": {},
     "output_type": "display_data"
    },
    {
     "name": "stdout",
     "output_type": "stream",
     "text": [
      "\n"
     ]
    },
    {
     "data": {
      "application/vnd.jupyter.widget-view+json": {
       "model_id": "97a8df8158824d65881238c2c65335bf",
       "version_major": 2,
       "version_minor": 0
      },
      "text/plain": [
       "HBox(children=(IntProgress(value=0, description='Testing GO_N=100', style=ProgressStyle(description_width='ini…"
      ]
     },
     "metadata": {},
     "output_type": "display_data"
    },
    {
     "name": "stdout",
     "output_type": "stream",
     "text": [
      "\n"
     ]
    }
   ],
   "source": [
    "results_go = pd.DataFrame()\n",
    "mutation = BinaryMutation(p=0.10, correction=Correction(scp))\n",
    "crossover = UniformMultipoint(1)\n",
    "for N in [1, 2, 3, 5, 10, 20, 30, 100]:\n",
    "    res = experiment_go(of=scp, maxeval=maxeval, num_runs=NUM_RUNS, N=N, M=N*3, Tsel1=1e-10, Tsel2=1e-2, \n",
    "                        mutation=mutation, crossover=crossover)\n",
    "    results_go = pd.concat([results_go, res], axis=0)"
   ]
  },
  {
   "cell_type": "code",
   "execution_count": 33,
   "metadata": {},
   "outputs": [
    {
     "data": {
      "text/html": [
       "<div>\n",
       "<style scoped>\n",
       "    .dataframe tbody tr th:only-of-type {\n",
       "        vertical-align: middle;\n",
       "    }\n",
       "\n",
       "    .dataframe tbody tr th {\n",
       "        vertical-align: top;\n",
       "    }\n",
       "\n",
       "    .dataframe thead th {\n",
       "        text-align: right;\n",
       "    }\n",
       "</style>\n",
       "<table border=\"1\" class=\"dataframe\">\n",
       "  <thead>\n",
       "    <tr style=\"text-align: right;\">\n",
       "      <th></th>\n",
       "      <th>heur</th>\n",
       "      <th>N</th>\n",
       "      <th>feo</th>\n",
       "      <th>mne</th>\n",
       "      <th>rel</th>\n",
       "    </tr>\n",
       "  </thead>\n",
       "  <tbody>\n",
       "    <tr>\n",
       "      <th>0</th>\n",
       "      <td>GO_N=1</td>\n",
       "      <td>1</td>\n",
       "      <td>214.723032</td>\n",
       "      <td>210.428571</td>\n",
       "      <td>0.98</td>\n",
       "    </tr>\n",
       "    <tr>\n",
       "      <th>1</th>\n",
       "      <td>GO_N=10</td>\n",
       "      <td>10</td>\n",
       "      <td>172.220000</td>\n",
       "      <td>172.220000</td>\n",
       "      <td>1.00</td>\n",
       "    </tr>\n",
       "    <tr>\n",
       "      <th>2</th>\n",
       "      <td>GO_N=100</td>\n",
       "      <td>100</td>\n",
       "      <td>327.335183</td>\n",
       "      <td>284.781609</td>\n",
       "      <td>0.87</td>\n",
       "    </tr>\n",
       "    <tr>\n",
       "      <th>3</th>\n",
       "      <td>GO_N=2</td>\n",
       "      <td>2</td>\n",
       "      <td>128.620000</td>\n",
       "      <td>128.620000</td>\n",
       "      <td>1.00</td>\n",
       "    </tr>\n",
       "    <tr>\n",
       "      <th>4</th>\n",
       "      <td>GO_N=20</td>\n",
       "      <td>20</td>\n",
       "      <td>215.463918</td>\n",
       "      <td>209.000000</td>\n",
       "      <td>0.97</td>\n",
       "    </tr>\n",
       "    <tr>\n",
       "      <th>5</th>\n",
       "      <td>GO_N=3</td>\n",
       "      <td>3</td>\n",
       "      <td>131.800000</td>\n",
       "      <td>131.800000</td>\n",
       "      <td>1.00</td>\n",
       "    </tr>\n",
       "    <tr>\n",
       "      <th>6</th>\n",
       "      <td>GO_N=30</td>\n",
       "      <td>30</td>\n",
       "      <td>265.329640</td>\n",
       "      <td>252.063158</td>\n",
       "      <td>0.95</td>\n",
       "    </tr>\n",
       "    <tr>\n",
       "      <th>7</th>\n",
       "      <td>GO_N=5</td>\n",
       "      <td>5</td>\n",
       "      <td>141.040000</td>\n",
       "      <td>141.040000</td>\n",
       "      <td>1.00</td>\n",
       "    </tr>\n",
       "  </tbody>\n",
       "</table>\n",
       "</div>"
      ],
      "text/plain": [
       "       heur    N         feo         mne   rel\n",
       "0    GO_N=1    1  214.723032  210.428571  0.98\n",
       "1   GO_N=10   10  172.220000  172.220000  1.00\n",
       "2  GO_N=100  100  327.335183  284.781609  0.87\n",
       "3    GO_N=2    2  128.620000  128.620000  1.00\n",
       "4   GO_N=20   20  215.463918  209.000000  0.97\n",
       "5    GO_N=3    3  131.800000  131.800000  1.00\n",
       "6   GO_N=30   30  265.329640  252.063158  0.95\n",
       "7    GO_N=5    5  141.040000  141.040000  1.00"
      ]
     },
     "execution_count": 33,
     "metadata": {},
     "output_type": "execute_result"
    }
   ],
   "source": [
    "stats_go = results_go.pivot_table(\n",
    "    index=['heur', 'N'],\n",
    "    values=['neval'],\n",
    "    aggfunc=(rel, mne, feo)\n",
    ")['neval']\n",
    "stats_go = stats_go.reset_index()\n",
    "stats_go.sort_values(by='N')\n",
    "stats_go"
   ]
  },
  {
   "cell_type": "markdown",
   "metadata": {},
   "source": [
    "### Optimization of the mutation probability\n",
    "Can we do better by changing the mutation probabilty?"
   ]
  },
  {
   "cell_type": "code",
   "execution_count": 34,
   "metadata": {},
   "outputs": [],
   "source": [
    "def experiment_go_2(of, maxeval, num_runs, p,N, M, Tsel1, Tsel2, mutation, crossover):\n",
    "    results = []\n",
    "    heur_name = 'GO_p={}'.format(p)\n",
    "    for i in tqdm_notebook(range(num_runs), 'Testing {}'.format(heur_name)):\n",
    "        result = GeneticOptimization(of, maxeval, N=N, M=M, Tsel1=Tsel1, Tsel2=Tsel2, \n",
    "                                     mutation=mutation, crossover=crossover).search()\n",
    "        result['run'] = i\n",
    "        result['heur'] = heur_name\n",
    "        result['p'] = p\n",
    "        results.append(result)\n",
    "    return pd.DataFrame(results, columns=['heur', 'run', 'p', 'best_x', 'best_y', 'neval'])"
   ]
  },
  {
   "cell_type": "code",
   "execution_count": 35,
   "metadata": {},
   "outputs": [
    {
     "data": {
      "application/vnd.jupyter.widget-view+json": {
       "model_id": "b8d2be09c98a4c57ba9357c8bf957b5a",
       "version_major": 2,
       "version_minor": 0
      },
      "text/plain": [
       "HBox(children=(IntProgress(value=0, description='Testing GO_p=0.01', style=ProgressStyle(description_width='in…"
      ]
     },
     "metadata": {},
     "output_type": "display_data"
    },
    {
     "name": "stdout",
     "output_type": "stream",
     "text": [
      "\n"
     ]
    },
    {
     "data": {
      "application/vnd.jupyter.widget-view+json": {
       "model_id": "1ab088e937454ff2a0e94ef90f2d9895",
       "version_major": 2,
       "version_minor": 0
      },
      "text/plain": [
       "HBox(children=(IntProgress(value=0, description='Testing GO_p=0.02', style=ProgressStyle(description_width='in…"
      ]
     },
     "metadata": {},
     "output_type": "display_data"
    },
    {
     "name": "stdout",
     "output_type": "stream",
     "text": [
      "\n"
     ]
    },
    {
     "data": {
      "application/vnd.jupyter.widget-view+json": {
       "model_id": "02594758d3284904b742d42c209cf0ca",
       "version_major": 2,
       "version_minor": 0
      },
      "text/plain": [
       "HBox(children=(IntProgress(value=0, description='Testing GO_p=0.05', style=ProgressStyle(description_width='in…"
      ]
     },
     "metadata": {},
     "output_type": "display_data"
    },
    {
     "name": "stdout",
     "output_type": "stream",
     "text": [
      "\n"
     ]
    },
    {
     "data": {
      "application/vnd.jupyter.widget-view+json": {
       "model_id": "093d208e7e674baab5117ebcd952cae0",
       "version_major": 2,
       "version_minor": 0
      },
      "text/plain": [
       "HBox(children=(IntProgress(value=0, description='Testing GO_p=0.1', style=ProgressStyle(description_width='ini…"
      ]
     },
     "metadata": {},
     "output_type": "display_data"
    },
    {
     "name": "stdout",
     "output_type": "stream",
     "text": [
      "\n"
     ]
    },
    {
     "data": {
      "application/vnd.jupyter.widget-view+json": {
       "model_id": "f558d84fe5d84ef49e0a64cd09287bb3",
       "version_major": 2,
       "version_minor": 0
      },
      "text/plain": [
       "HBox(children=(IntProgress(value=0, description='Testing GO_p=0.2', style=ProgressStyle(description_width='ini…"
      ]
     },
     "metadata": {},
     "output_type": "display_data"
    },
    {
     "name": "stdout",
     "output_type": "stream",
     "text": [
      "\n"
     ]
    },
    {
     "data": {
      "application/vnd.jupyter.widget-view+json": {
       "model_id": "ce3ea46cc44a4dc7927e86acd13c52bb",
       "version_major": 2,
       "version_minor": 0
      },
      "text/plain": [
       "HBox(children=(IntProgress(value=0, description='Testing GO_p=0.5', style=ProgressStyle(description_width='ini…"
      ]
     },
     "metadata": {},
     "output_type": "display_data"
    },
    {
     "name": "stdout",
     "output_type": "stream",
     "text": [
      "\n"
     ]
    }
   ],
   "source": [
    "results_go_2 = pd.DataFrame()\n",
    "crossover = UniformMultipoint(1)\n",
    "N = 2\n",
    "for p in [0.01, 0.02, 0.05, 0.10, 0.20, 0.50]:\n",
    "    mutation = BinaryMutation(p=p, correction=Correction(scp))\n",
    "    res = experiment_go_2(of=scp, maxeval=maxeval, num_runs=NUM_RUNS, p=p, N=N, M=N*3, Tsel1=1e-10, Tsel2=1e-2, \n",
    "                        mutation=mutation, crossover=crossover)\n",
    "    results_go_2 = pd.concat([results_go_2, res], axis=0)"
   ]
  },
  {
   "cell_type": "code",
   "execution_count": 36,
   "metadata": {},
   "outputs": [
    {
     "data": {
      "text/html": [
       "<div>\n",
       "<style scoped>\n",
       "    .dataframe tbody tr th:only-of-type {\n",
       "        vertical-align: middle;\n",
       "    }\n",
       "\n",
       "    .dataframe tbody tr th {\n",
       "        vertical-align: top;\n",
       "    }\n",
       "\n",
       "    .dataframe thead th {\n",
       "        text-align: right;\n",
       "    }\n",
       "</style>\n",
       "<table border=\"1\" class=\"dataframe\">\n",
       "  <thead>\n",
       "    <tr style=\"text-align: right;\">\n",
       "      <th></th>\n",
       "      <th>heur</th>\n",
       "      <th>p</th>\n",
       "      <th>feo</th>\n",
       "      <th>mne</th>\n",
       "      <th>rel</th>\n",
       "    </tr>\n",
       "  </thead>\n",
       "  <tbody>\n",
       "    <tr>\n",
       "      <th>0</th>\n",
       "      <td>GO_p=0.01</td>\n",
       "      <td>0.01</td>\n",
       "      <td>467.209141</td>\n",
       "      <td>355.078947</td>\n",
       "      <td>0.76</td>\n",
       "    </tr>\n",
       "    <tr>\n",
       "      <th>1</th>\n",
       "      <td>GO_p=0.02</td>\n",
       "      <td>0.02</td>\n",
       "      <td>319.128072</td>\n",
       "      <td>293.597826</td>\n",
       "      <td>0.92</td>\n",
       "    </tr>\n",
       "    <tr>\n",
       "      <th>2</th>\n",
       "      <td>GO_p=0.05</td>\n",
       "      <td>0.05</td>\n",
       "      <td>136.410000</td>\n",
       "      <td>136.410000</td>\n",
       "      <td>1.00</td>\n",
       "    </tr>\n",
       "    <tr>\n",
       "      <th>3</th>\n",
       "      <td>GO_p=0.1</td>\n",
       "      <td>0.10</td>\n",
       "      <td>116.920000</td>\n",
       "      <td>116.920000</td>\n",
       "      <td>1.00</td>\n",
       "    </tr>\n",
       "    <tr>\n",
       "      <th>4</th>\n",
       "      <td>GO_p=0.2</td>\n",
       "      <td>0.20</td>\n",
       "      <td>262.886598</td>\n",
       "      <td>255.000000</td>\n",
       "      <td>0.97</td>\n",
       "    </tr>\n",
       "    <tr>\n",
       "      <th>5</th>\n",
       "      <td>GO_p=0.5</td>\n",
       "      <td>0.50</td>\n",
       "      <td>2228.117914</td>\n",
       "      <td>467.904762</td>\n",
       "      <td>0.21</td>\n",
       "    </tr>\n",
       "  </tbody>\n",
       "</table>\n",
       "</div>"
      ],
      "text/plain": [
       "        heur     p          feo         mne   rel\n",
       "0  GO_p=0.01  0.01   467.209141  355.078947  0.76\n",
       "1  GO_p=0.02  0.02   319.128072  293.597826  0.92\n",
       "2  GO_p=0.05  0.05   136.410000  136.410000  1.00\n",
       "3   GO_p=0.1  0.10   116.920000  116.920000  1.00\n",
       "4   GO_p=0.2  0.20   262.886598  255.000000  0.97\n",
       "5   GO_p=0.5  0.50  2228.117914  467.904762  0.21"
      ]
     },
     "execution_count": 36,
     "metadata": {},
     "output_type": "execute_result"
    }
   ],
   "source": [
    "stats_go_2 = results_go_2.pivot_table(\n",
    "    index=['heur', 'p'],\n",
    "    values=['neval'],\n",
    "    aggfunc=(rel, mne, feo)\n",
    ")['neval']\n",
    "stats_go_2 = stats_go_2.reset_index()\n",
    "stats_go_2.sort_values(by='p')\n",
    "stats_go_2"
   ]
  },
  {
   "cell_type": "markdown",
   "metadata": {},
   "source": [
    "### Optimization of the selection temperatures"
   ]
  },
  {
   "cell_type": "code",
   "execution_count": 39,
   "metadata": {},
   "outputs": [],
   "source": [
    "def experiment_go_3(of, maxeval, num_runs, p,N, M, Tsel1, Tsel2, mutation, crossover):\n",
    "    results = []\n",
    "    heur_name = 'GO_Tsel1={}_Tsel2={}'.format(Tsel1, Tsel2)\n",
    "    for i in tqdm_notebook(range(num_runs), 'Testing {}'.format(heur_name)):\n",
    "        result = GeneticOptimization(of, maxeval, N=N, M=M, Tsel1=Tsel1, Tsel2=Tsel2, \n",
    "                                     mutation=mutation, crossover=crossover).search()\n",
    "        result['run'] = i\n",
    "        result['heur'] = heur_name\n",
    "        result['Tsel1'] = Tsel1\n",
    "        result['Tsel2'] = Tsel2\n",
    "        results.append(result)\n",
    "    return pd.DataFrame(results, columns=['heur', 'run', 'Tsel1', 'Tsel2', 'best_x', 'best_y', 'neval'])"
   ]
  },
  {
   "cell_type": "code",
   "execution_count": 43,
   "metadata": {},
   "outputs": [
    {
     "data": {
      "application/vnd.jupyter.widget-view+json": {
       "model_id": "9926db0e8479453a960af30a58aee8f2",
       "version_major": 2,
       "version_minor": 0
      },
      "text/plain": [
       "HBox(children=(IntProgress(value=0, description='Testing GO_Tsel1=1e-10_Tsel2=1e-10', style=ProgressStyle(desc…"
      ]
     },
     "metadata": {},
     "output_type": "display_data"
    },
    {
     "name": "stdout",
     "output_type": "stream",
     "text": [
      "\n"
     ]
    },
    {
     "data": {
      "application/vnd.jupyter.widget-view+json": {
       "model_id": "e9a101cdc90842b6946d366b4f8c97f5",
       "version_major": 2,
       "version_minor": 0
      },
      "text/plain": [
       "HBox(children=(IntProgress(value=0, description='Testing GO_Tsel1=1e-10_Tsel2=0.01', style=ProgressStyle(descr…"
      ]
     },
     "metadata": {},
     "output_type": "display_data"
    },
    {
     "name": "stdout",
     "output_type": "stream",
     "text": [
      "\n"
     ]
    },
    {
     "data": {
      "application/vnd.jupyter.widget-view+json": {
       "model_id": "9c1d385e7c2d46aa81f0b811d7003e41",
       "version_major": 2,
       "version_minor": 0
      },
      "text/plain": [
       "HBox(children=(IntProgress(value=0, description='Testing GO_Tsel1=1e-10_Tsel2=1', style=ProgressStyle(descript…"
      ]
     },
     "metadata": {},
     "output_type": "display_data"
    },
    {
     "name": "stdout",
     "output_type": "stream",
     "text": [
      "\n"
     ]
    },
    {
     "data": {
      "application/vnd.jupyter.widget-view+json": {
       "model_id": "54c4f297cb794662bb0e6a3fa7bb810d",
       "version_major": 2,
       "version_minor": 0
      },
      "text/plain": [
       "HBox(children=(IntProgress(value=0, description='Testing GO_Tsel1=1e-10_Tsel2=inf', style=ProgressStyle(descri…"
      ]
     },
     "metadata": {},
     "output_type": "display_data"
    },
    {
     "name": "stdout",
     "output_type": "stream",
     "text": [
      "\n"
     ]
    }
   ],
   "source": [
    "results_go_3 = pd.DataFrame()\n",
    "crossover = UniformMultipoint(1)\n",
    "mutation = BinaryMutation(p=0.10, correction=Correction(scp))\n",
    "N = 2\n",
    "for Tsel in [1e-10, 1e-2, 1, np.inf]:\n",
    "    res = experiment_go_3(of=scp, maxeval=maxeval, num_runs=NUM_RUNS, p=p, N=N, M=N*3, Tsel1=1e-10, Tsel2=Tsel, \n",
    "                        mutation=mutation, crossover=crossover)\n",
    "    results_go_3 = pd.concat([results_go_3, res], axis=0)"
   ]
  },
  {
   "cell_type": "code",
   "execution_count": 44,
   "metadata": {},
   "outputs": [
    {
     "data": {
      "text/html": [
       "<div>\n",
       "<style scoped>\n",
       "    .dataframe tbody tr th:only-of-type {\n",
       "        vertical-align: middle;\n",
       "    }\n",
       "\n",
       "    .dataframe tbody tr th {\n",
       "        vertical-align: top;\n",
       "    }\n",
       "\n",
       "    .dataframe thead th {\n",
       "        text-align: right;\n",
       "    }\n",
       "</style>\n",
       "<table border=\"1\" class=\"dataframe\">\n",
       "  <thead>\n",
       "    <tr style=\"text-align: right;\">\n",
       "      <th></th>\n",
       "      <th>heur</th>\n",
       "      <th>Tsel2</th>\n",
       "      <th>feo</th>\n",
       "      <th>mne</th>\n",
       "      <th>rel</th>\n",
       "    </tr>\n",
       "  </thead>\n",
       "  <tbody>\n",
       "    <tr>\n",
       "      <th>0</th>\n",
       "      <td>GO_Tsel1=1e-10_Tsel2=0.01</td>\n",
       "      <td>1.000000e-02</td>\n",
       "      <td>122.25</td>\n",
       "      <td>122.25</td>\n",
       "      <td>1.0</td>\n",
       "    </tr>\n",
       "    <tr>\n",
       "      <th>1</th>\n",
       "      <td>GO_Tsel1=1e-10_Tsel2=1</td>\n",
       "      <td>1.000000e+00</td>\n",
       "      <td>136.66</td>\n",
       "      <td>136.66</td>\n",
       "      <td>1.0</td>\n",
       "    </tr>\n",
       "    <tr>\n",
       "      <th>2</th>\n",
       "      <td>GO_Tsel1=1e-10_Tsel2=1e-10</td>\n",
       "      <td>1.000000e-10</td>\n",
       "      <td>134.90</td>\n",
       "      <td>134.90</td>\n",
       "      <td>1.0</td>\n",
       "    </tr>\n",
       "    <tr>\n",
       "      <th>3</th>\n",
       "      <td>GO_Tsel1=1e-10_Tsel2=inf</td>\n",
       "      <td>inf</td>\n",
       "      <td>NaN</td>\n",
       "      <td>NaN</td>\n",
       "      <td>0.0</td>\n",
       "    </tr>\n",
       "  </tbody>\n",
       "</table>\n",
       "</div>"
      ],
      "text/plain": [
       "                         heur         Tsel2     feo     mne  rel\n",
       "0   GO_Tsel1=1e-10_Tsel2=0.01  1.000000e-02  122.25  122.25  1.0\n",
       "1      GO_Tsel1=1e-10_Tsel2=1  1.000000e+00  136.66  136.66  1.0\n",
       "2  GO_Tsel1=1e-10_Tsel2=1e-10  1.000000e-10  134.90  134.90  1.0\n",
       "3    GO_Tsel1=1e-10_Tsel2=inf           inf     NaN     NaN  0.0"
      ]
     },
     "execution_count": 44,
     "metadata": {},
     "output_type": "execute_result"
    }
   ],
   "source": [
    "stats_go_3 = results_go_3.pivot_table(\n",
    "    index=['heur', 'Tsel2'],\n",
    "    values=['neval'],\n",
    "    aggfunc=(rel, mne, feo)\n",
    ")['neval']\n",
    "stats_go_3 = stats_go_3.reset_index()\n",
    "stats_go_3.sort_values(by='Tsel2')\n",
    "stats_go_3"
   ]
  },
  {
   "cell_type": "markdown",
   "metadata": {},
   "source": [
    "The optimal GO parameters are following:\n",
    "* Size of the population: N = 2\n",
    "* Mutation probability  : p = 0.10\n",
    "* Selection temperatures:\n",
    "    - Tsel1 = 1e-10\n",
    "    - Tsel2 = 1e-2"
   ]
  },
  {
   "cell_type": "code",
   "execution_count": 45,
   "metadata": {},
   "outputs": [
    {
     "name": "stdout",
     "output_type": "stream",
     "text": [
      "neval = 208\n",
      "best_x = [0. 0. 0. 0. 0. 1. 0. 0. 0. 0. 1. 0. 0. 0. 0. 1.]\n",
      "best_y = 3.0\n"
     ]
    }
   ],
   "source": [
    "mutation = BinaryMutation(p=0.10, correction=Correction(scp))\n",
    "heur = GeneticOptimization(of=scp, maxeval=maxeval, N=2, M=6, Tsel1=1e-10, Tsel2=1e-2, \n",
    "                        mutation=mutation, crossover=crossover)\n",
    "result = heur.search()\n",
    "print('neval = {}'.format(result['neval']))\n",
    "print('best_x = {}'.format(result['best_x']))\n",
    "print('best_y = {}'.format(result['best_y']))"
   ]
  },
  {
   "cell_type": "markdown",
   "metadata": {},
   "source": [
    "## Fast Simulated Annealing + Genetic Optimization heursitic\n",
    "In this case, we will use FSA and GO parameters optimized separately in the previous section."
   ]
  },
  {
   "cell_type": "code",
   "execution_count": 46,
   "metadata": {},
   "outputs": [],
   "source": [
    "from heur_go import UniformMultipoint\n",
    "from heur_fsa_go import FsaGoHeuristic\n",
    "from heur_aux import BinaryMutation, Correction"
   ]
  },
  {
   "cell_type": "markdown",
   "metadata": {},
   "source": [
    "### Optimization of the size of the population\n",
    "We will find out whether the parameters from the GO heuristic are optimal in the combined heuristic as well"
   ]
  },
  {
   "cell_type": "code",
   "execution_count": 47,
   "metadata": {},
   "outputs": [],
   "source": [
    "NUM_RUNS = 100\n",
    "maxevalFsa = 50\n",
    "maxevalGo = 1000"
   ]
  },
  {
   "cell_type": "code",
   "execution_count": 48,
   "metadata": {},
   "outputs": [],
   "source": [
    "def experiment_fsa_go(of, maxevalFsa, maxevalGo, num_runs, N, M, Tsel1, Tsel2, mutation, crossover, T0, n0, alpha):\n",
    "    results = []\n",
    "    heur_name = 'FSA_GO_N={}'.format(N)\n",
    "    for i in tqdm_notebook(range(num_runs), 'Testing {}'.format(heur_name)):\n",
    "        result = FsaGoHeuristic(of=of, maxevalFsa=maxevalFsa, maxevalGo=maxevalGo, N=N, M=M, Tsel1=Tsel1, Tsel2=Tsel2, \n",
    "                                     mutation=mutation, crossover=crossover,\n",
    "                                        T0=T0, n0=n0, alpha=alpha).search()\n",
    "        result['run'] = i\n",
    "        result['heur'] = heur_name\n",
    "        result['N'] = N\n",
    "        results.append(result)\n",
    "    return pd.DataFrame(results, columns=['heur', 'run', 'N', 'best_x', 'best_y', 'neval', 'GO_boost'])"
   ]
  },
  {
   "cell_type": "code",
   "execution_count": 49,
   "metadata": {
    "scrolled": true
   },
   "outputs": [
    {
     "data": {
      "application/vnd.jupyter.widget-view+json": {
       "model_id": "eb9c1bad3195436a964d7d22e0652a18",
       "version_major": 2,
       "version_minor": 0
      },
      "text/plain": [
       "HBox(children=(IntProgress(value=0, description='Testing FSA_GO_N=1', style=ProgressStyle(description_width='i…"
      ]
     },
     "metadata": {},
     "output_type": "display_data"
    },
    {
     "name": "stdout",
     "output_type": "stream",
     "text": [
      "\n"
     ]
    },
    {
     "data": {
      "application/vnd.jupyter.widget-view+json": {
       "model_id": "27e84edb3ef943e797888717fbfdc744",
       "version_major": 2,
       "version_minor": 0
      },
      "text/plain": [
       "HBox(children=(IntProgress(value=0, description='Testing FSA_GO_N=2', style=ProgressStyle(description_width='i…"
      ]
     },
     "metadata": {},
     "output_type": "display_data"
    },
    {
     "name": "stdout",
     "output_type": "stream",
     "text": [
      "\n"
     ]
    },
    {
     "data": {
      "application/vnd.jupyter.widget-view+json": {
       "model_id": "7b4d7f6a4c4a45e59605281023c42e3f",
       "version_major": 2,
       "version_minor": 0
      },
      "text/plain": [
       "HBox(children=(IntProgress(value=0, description='Testing FSA_GO_N=3', style=ProgressStyle(description_width='i…"
      ]
     },
     "metadata": {},
     "output_type": "display_data"
    },
    {
     "name": "stdout",
     "output_type": "stream",
     "text": [
      "\n"
     ]
    },
    {
     "data": {
      "application/vnd.jupyter.widget-view+json": {
       "model_id": "55d0f1e982e0431880a68054703296e7",
       "version_major": 2,
       "version_minor": 0
      },
      "text/plain": [
       "HBox(children=(IntProgress(value=0, description='Testing FSA_GO_N=5', style=ProgressStyle(description_width='i…"
      ]
     },
     "metadata": {},
     "output_type": "display_data"
    },
    {
     "name": "stdout",
     "output_type": "stream",
     "text": [
      "\n"
     ]
    },
    {
     "data": {
      "application/vnd.jupyter.widget-view+json": {
       "model_id": "529c1352319646b7915effdbeaf32db5",
       "version_major": 2,
       "version_minor": 0
      },
      "text/plain": [
       "HBox(children=(IntProgress(value=0, description='Testing FSA_GO_N=10', style=ProgressStyle(description_width='…"
      ]
     },
     "metadata": {},
     "output_type": "display_data"
    },
    {
     "name": "stdout",
     "output_type": "stream",
     "text": [
      "\n"
     ]
    },
    {
     "data": {
      "application/vnd.jupyter.widget-view+json": {
       "model_id": "ccab7dbbed224baba28359d9c0c538f4",
       "version_major": 2,
       "version_minor": 0
      },
      "text/plain": [
       "HBox(children=(IntProgress(value=0, description='Testing FSA_GO_N=20', style=ProgressStyle(description_width='…"
      ]
     },
     "metadata": {},
     "output_type": "display_data"
    },
    {
     "name": "stdout",
     "output_type": "stream",
     "text": [
      "\n"
     ]
    },
    {
     "data": {
      "application/vnd.jupyter.widget-view+json": {
       "model_id": "0b5f8ae1a7734b8d82581b461734d6de",
       "version_major": 2,
       "version_minor": 0
      },
      "text/plain": [
       "HBox(children=(IntProgress(value=0, description='Testing FSA_GO_N=50', style=ProgressStyle(description_width='…"
      ]
     },
     "metadata": {},
     "output_type": "display_data"
    },
    {
     "name": "stdout",
     "output_type": "stream",
     "text": [
      "\n"
     ]
    }
   ],
   "source": [
    "results_fsa_go_1 = pd.DataFrame()\n",
    "mutation = BinaryMutation(p=0.10, correction=Correction(scp))\n",
    "crossover = UniformMultipoint(1)\n",
    "for N in [1, 2, 3, 5, 10, 20, 50]:\n",
    "    res = experiment_fsa_go(of=scp, maxevalFsa=maxevalFsa, maxevalGo=maxevalGo, num_runs=NUM_RUNS, N=N, M=N*3, Tsel1=1e-10, Tsel2=1e-2, \n",
    "                        mutation=mutation, crossover=crossover, T0=1, n0=1, alpha=1)\n",
    "    results_fsa_go_1 = pd.concat([results_fsa_go_1, res], axis=0)"
   ]
  },
  {
   "cell_type": "code",
   "execution_count": 50,
   "metadata": {},
   "outputs": [
    {
     "data": {
      "text/html": [
       "<div>\n",
       "<style scoped>\n",
       "    .dataframe tbody tr th:only-of-type {\n",
       "        vertical-align: middle;\n",
       "    }\n",
       "\n",
       "    .dataframe tbody tr th {\n",
       "        vertical-align: top;\n",
       "    }\n",
       "\n",
       "    .dataframe thead th {\n",
       "        text-align: right;\n",
       "    }\n",
       "</style>\n",
       "<table border=\"1\" class=\"dataframe\">\n",
       "  <thead>\n",
       "    <tr style=\"text-align: right;\">\n",
       "      <th></th>\n",
       "      <th>heur</th>\n",
       "      <th>N</th>\n",
       "      <th>feo</th>\n",
       "      <th>mne</th>\n",
       "      <th>rel</th>\n",
       "    </tr>\n",
       "  </thead>\n",
       "  <tbody>\n",
       "    <tr>\n",
       "      <th>0</th>\n",
       "      <td>FSA_GO_N=1</td>\n",
       "      <td>1</td>\n",
       "      <td>187.225793</td>\n",
       "      <td>185.353535</td>\n",
       "      <td>0.99</td>\n",
       "    </tr>\n",
       "    <tr>\n",
       "      <th>1</th>\n",
       "      <td>FSA_GO_N=10</td>\n",
       "      <td>10</td>\n",
       "      <td>170.280000</td>\n",
       "      <td>170.280000</td>\n",
       "      <td>1.00</td>\n",
       "    </tr>\n",
       "    <tr>\n",
       "      <th>2</th>\n",
       "      <td>FSA_GO_N=2</td>\n",
       "      <td>2</td>\n",
       "      <td>159.780000</td>\n",
       "      <td>159.780000</td>\n",
       "      <td>1.00</td>\n",
       "    </tr>\n",
       "    <tr>\n",
       "      <th>3</th>\n",
       "      <td>FSA_GO_N=20</td>\n",
       "      <td>20</td>\n",
       "      <td>178.580000</td>\n",
       "      <td>178.580000</td>\n",
       "      <td>1.00</td>\n",
       "    </tr>\n",
       "    <tr>\n",
       "      <th>4</th>\n",
       "      <td>FSA_GO_N=3</td>\n",
       "      <td>3</td>\n",
       "      <td>169.320000</td>\n",
       "      <td>169.320000</td>\n",
       "      <td>1.00</td>\n",
       "    </tr>\n",
       "    <tr>\n",
       "      <th>5</th>\n",
       "      <td>FSA_GO_N=5</td>\n",
       "      <td>5</td>\n",
       "      <td>187.330000</td>\n",
       "      <td>187.330000</td>\n",
       "      <td>1.00</td>\n",
       "    </tr>\n",
       "    <tr>\n",
       "      <th>6</th>\n",
       "      <td>FSA_GO_N=50</td>\n",
       "      <td>50</td>\n",
       "      <td>182.960000</td>\n",
       "      <td>182.960000</td>\n",
       "      <td>1.00</td>\n",
       "    </tr>\n",
       "  </tbody>\n",
       "</table>\n",
       "</div>"
      ],
      "text/plain": [
       "          heur   N         feo         mne   rel\n",
       "0   FSA_GO_N=1   1  187.225793  185.353535  0.99\n",
       "1  FSA_GO_N=10  10  170.280000  170.280000  1.00\n",
       "2   FSA_GO_N=2   2  159.780000  159.780000  1.00\n",
       "3  FSA_GO_N=20  20  178.580000  178.580000  1.00\n",
       "4   FSA_GO_N=3   3  169.320000  169.320000  1.00\n",
       "5   FSA_GO_N=5   5  187.330000  187.330000  1.00\n",
       "6  FSA_GO_N=50  50  182.960000  182.960000  1.00"
      ]
     },
     "execution_count": 50,
     "metadata": {},
     "output_type": "execute_result"
    }
   ],
   "source": [
    "stats_fsa_go_1A = results_fsa_go_1.pivot_table(\n",
    "    index=['heur', 'N'],\n",
    "    values=['neval'],\n",
    "    aggfunc=(rel, mne, feo)\n",
    ")['neval']\n",
    "stats_fsa_go_1A = stats_fsa_go_1A.reset_index()\n",
    "stats_fsa_go_1A.sort_values(by='N')\n",
    "stats_fsa_go_1A"
   ]
  },
  {
   "cell_type": "code",
   "execution_count": 51,
   "metadata": {},
   "outputs": [
    {
     "data": {
      "text/html": [
       "<div>\n",
       "<style scoped>\n",
       "    .dataframe tbody tr th:only-of-type {\n",
       "        vertical-align: middle;\n",
       "    }\n",
       "\n",
       "    .dataframe tbody tr th {\n",
       "        vertical-align: top;\n",
       "    }\n",
       "\n",
       "    .dataframe thead th {\n",
       "        text-align: right;\n",
       "    }\n",
       "</style>\n",
       "<table border=\"1\" class=\"dataframe\">\n",
       "  <thead>\n",
       "    <tr style=\"text-align: right;\">\n",
       "      <th></th>\n",
       "      <th>heur</th>\n",
       "      <th>N</th>\n",
       "      <th>GO_boost</th>\n",
       "    </tr>\n",
       "  </thead>\n",
       "  <tbody>\n",
       "    <tr>\n",
       "      <th>0</th>\n",
       "      <td>FSA_GO_N=1</td>\n",
       "      <td>1</td>\n",
       "      <td>0.70</td>\n",
       "    </tr>\n",
       "    <tr>\n",
       "      <th>1</th>\n",
       "      <td>FSA_GO_N=10</td>\n",
       "      <td>10</td>\n",
       "      <td>0.05</td>\n",
       "    </tr>\n",
       "    <tr>\n",
       "      <th>2</th>\n",
       "      <td>FSA_GO_N=2</td>\n",
       "      <td>2</td>\n",
       "      <td>0.60</td>\n",
       "    </tr>\n",
       "    <tr>\n",
       "      <th>3</th>\n",
       "      <td>FSA_GO_N=20</td>\n",
       "      <td>20</td>\n",
       "      <td>0.00</td>\n",
       "    </tr>\n",
       "    <tr>\n",
       "      <th>4</th>\n",
       "      <td>FSA_GO_N=3</td>\n",
       "      <td>3</td>\n",
       "      <td>0.41</td>\n",
       "    </tr>\n",
       "    <tr>\n",
       "      <th>5</th>\n",
       "      <td>FSA_GO_N=5</td>\n",
       "      <td>5</td>\n",
       "      <td>0.26</td>\n",
       "    </tr>\n",
       "    <tr>\n",
       "      <th>6</th>\n",
       "      <td>FSA_GO_N=50</td>\n",
       "      <td>50</td>\n",
       "      <td>0.00</td>\n",
       "    </tr>\n",
       "  </tbody>\n",
       "</table>\n",
       "</div>"
      ],
      "text/plain": [
       "          heur   N  GO_boost\n",
       "0   FSA_GO_N=1   1      0.70\n",
       "1  FSA_GO_N=10  10      0.05\n",
       "2   FSA_GO_N=2   2      0.60\n",
       "3  FSA_GO_N=20  20      0.00\n",
       "4   FSA_GO_N=3   3      0.41\n",
       "5   FSA_GO_N=5   5      0.26\n",
       "6  FSA_GO_N=50  50      0.00"
      ]
     },
     "execution_count": 51,
     "metadata": {},
     "output_type": "execute_result"
    }
   ],
   "source": [
    "stats_fsa_go_1B = results_fsa_go_1.pivot_table(\n",
    "    index=['heur', 'N'],\n",
    "    values=['GO_boost'],\n",
    "    aggfunc=(go_boost)\n",
    ")['GO_boost']\n",
    "stats_fsa_go_1B = stats_fsa_go_1B.reset_index()\n",
    "stats_fsa_go_1B.sort_values(by='N')\n",
    "stats_fsa_go_1B"
   ]
  },
  {
   "cell_type": "markdown",
   "metadata": {},
   "source": [
    "The best combined heuristisic has only 2 elements in the population. Let's tune other parameters!"
   ]
  },
  {
   "cell_type": "markdown",
   "metadata": {},
   "source": [
    "### Optimization of the FSA cooling factor"
   ]
  },
  {
   "cell_type": "code",
   "execution_count": 52,
   "metadata": {},
   "outputs": [],
   "source": [
    "def experiment_fsa_go_2(of, maxevalFsa, maxevalGo, num_runs, N, M, Tsel1, Tsel2, mutation, crossover, T0, n0, alpha):\n",
    "    results = []\n",
    "    heur_name = 'FSA_GO_n0={}'.format(n0)\n",
    "    for i in tqdm_notebook(range(num_runs), 'Testing {}'.format(heur_name)):\n",
    "        result = FsaGoHeuristic(of=of, maxevalFsa=maxevalFsa, maxevalGo=maxevalGo, N=N, M=M, Tsel1=Tsel1, Tsel2=Tsel2, \n",
    "                                     mutation=mutation, crossover=crossover,\n",
    "                                        T0=T0, n0=n0, alpha=alpha).search()\n",
    "        result['run'] = i\n",
    "        result['heur'] = heur_name\n",
    "        result['n0'] = n0\n",
    "        results.append(result)\n",
    "    return pd.DataFrame(results, columns=['heur', 'run', 'n0', 'best_x', 'best_y', 'neval', 'GO_boost'])"
   ]
  },
  {
   "cell_type": "code",
   "execution_count": 53,
   "metadata": {},
   "outputs": [
    {
     "data": {
      "application/vnd.jupyter.widget-view+json": {
       "model_id": "b271d61390ae4d7c9b01bbf15a6fca74",
       "version_major": 2,
       "version_minor": 0
      },
      "text/plain": [
       "HBox(children=(IntProgress(value=0, description='Testing FSA_GO_n0=1', style=ProgressStyle(description_width='…"
      ]
     },
     "metadata": {},
     "output_type": "display_data"
    },
    {
     "name": "stdout",
     "output_type": "stream",
     "text": [
      "\n"
     ]
    },
    {
     "data": {
      "application/vnd.jupyter.widget-view+json": {
       "model_id": "83798eb00358446887fd781e31fdd45c",
       "version_major": 2,
       "version_minor": 0
      },
      "text/plain": [
       "HBox(children=(IntProgress(value=0, description='Testing FSA_GO_n0=2', style=ProgressStyle(description_width='…"
      ]
     },
     "metadata": {},
     "output_type": "display_data"
    },
    {
     "name": "stdout",
     "output_type": "stream",
     "text": [
      "\n"
     ]
    },
    {
     "data": {
      "application/vnd.jupyter.widget-view+json": {
       "model_id": "72dffed247974937bcc67da909e50bc1",
       "version_major": 2,
       "version_minor": 0
      },
      "text/plain": [
       "HBox(children=(IntProgress(value=0, description='Testing FSA_GO_n0=5', style=ProgressStyle(description_width='…"
      ]
     },
     "metadata": {},
     "output_type": "display_data"
    },
    {
     "name": "stdout",
     "output_type": "stream",
     "text": [
      "\n"
     ]
    },
    {
     "data": {
      "application/vnd.jupyter.widget-view+json": {
       "model_id": "968790dadc714c9a8fabc946bc68bb04",
       "version_major": 2,
       "version_minor": 0
      },
      "text/plain": [
       "HBox(children=(IntProgress(value=0, description='Testing FSA_GO_n0=10', style=ProgressStyle(description_width=…"
      ]
     },
     "metadata": {},
     "output_type": "display_data"
    },
    {
     "name": "stdout",
     "output_type": "stream",
     "text": [
      "\n"
     ]
    }
   ],
   "source": [
    "results_fsa_go_2 = pd.DataFrame()\n",
    "mutation = BinaryMutation(p=0.10, correction=Correction(scp))\n",
    "crossover = UniformMultipoint(1)\n",
    "for n0 in [1, 2, 5, 10]:\n",
    "    res = experiment_fsa_go_2(of=scp, maxevalFsa=50, maxevalGo=maxevalGo, num_runs=NUM_RUNS, N=2, M=6, Tsel1=1e-10, Tsel2=1e-2,\n",
    "                              mutation=mutation, crossover=crossover, T0=1, n0=n0, alpha=1)\n",
    "    results_fsa_go_2 = pd.concat([results_fsa_go_2, res], axis=0)"
   ]
  },
  {
   "cell_type": "code",
   "execution_count": 54,
   "metadata": {},
   "outputs": [
    {
     "data": {
      "text/html": [
       "<div>\n",
       "<style scoped>\n",
       "    .dataframe tbody tr th:only-of-type {\n",
       "        vertical-align: middle;\n",
       "    }\n",
       "\n",
       "    .dataframe tbody tr th {\n",
       "        vertical-align: top;\n",
       "    }\n",
       "\n",
       "    .dataframe thead th {\n",
       "        text-align: right;\n",
       "    }\n",
       "</style>\n",
       "<table border=\"1\" class=\"dataframe\">\n",
       "  <thead>\n",
       "    <tr style=\"text-align: right;\">\n",
       "      <th></th>\n",
       "      <th>heur</th>\n",
       "      <th>n0</th>\n",
       "      <th>feo</th>\n",
       "      <th>mne</th>\n",
       "      <th>rel</th>\n",
       "    </tr>\n",
       "  </thead>\n",
       "  <tbody>\n",
       "    <tr>\n",
       "      <th>0</th>\n",
       "      <td>FSA_GO_n0=1</td>\n",
       "      <td>1</td>\n",
       "      <td>133.42</td>\n",
       "      <td>133.42</td>\n",
       "      <td>1.0</td>\n",
       "    </tr>\n",
       "    <tr>\n",
       "      <th>1</th>\n",
       "      <td>FSA_GO_n0=10</td>\n",
       "      <td>10</td>\n",
       "      <td>188.89</td>\n",
       "      <td>188.89</td>\n",
       "      <td>1.0</td>\n",
       "    </tr>\n",
       "    <tr>\n",
       "      <th>2</th>\n",
       "      <td>FSA_GO_n0=2</td>\n",
       "      <td>2</td>\n",
       "      <td>167.81</td>\n",
       "      <td>167.81</td>\n",
       "      <td>1.0</td>\n",
       "    </tr>\n",
       "    <tr>\n",
       "      <th>3</th>\n",
       "      <td>FSA_GO_n0=5</td>\n",
       "      <td>5</td>\n",
       "      <td>147.33</td>\n",
       "      <td>147.33</td>\n",
       "      <td>1.0</td>\n",
       "    </tr>\n",
       "  </tbody>\n",
       "</table>\n",
       "</div>"
      ],
      "text/plain": [
       "           heur  n0     feo     mne  rel\n",
       "0   FSA_GO_n0=1   1  133.42  133.42  1.0\n",
       "1  FSA_GO_n0=10  10  188.89  188.89  1.0\n",
       "2   FSA_GO_n0=2   2  167.81  167.81  1.0\n",
       "3   FSA_GO_n0=5   5  147.33  147.33  1.0"
      ]
     },
     "execution_count": 54,
     "metadata": {},
     "output_type": "execute_result"
    }
   ],
   "source": [
    "stats_fsa_go_2A = results_fsa_go_2.pivot_table(\n",
    "    index=['heur', 'n0'],\n",
    "    values=['neval'],\n",
    "    aggfunc=(rel, mne, feo)\n",
    ")['neval']\n",
    "stats_fsa_go_2A = stats_fsa_go_2A.reset_index()\n",
    "stats_fsa_go_2A.sort_values(by='n0')\n",
    "stats_fsa_go_2A"
   ]
  },
  {
   "cell_type": "code",
   "execution_count": 55,
   "metadata": {},
   "outputs": [
    {
     "data": {
      "text/html": [
       "<div>\n",
       "<style scoped>\n",
       "    .dataframe tbody tr th:only-of-type {\n",
       "        vertical-align: middle;\n",
       "    }\n",
       "\n",
       "    .dataframe tbody tr th {\n",
       "        vertical-align: top;\n",
       "    }\n",
       "\n",
       "    .dataframe thead th {\n",
       "        text-align: right;\n",
       "    }\n",
       "</style>\n",
       "<table border=\"1\" class=\"dataframe\">\n",
       "  <thead>\n",
       "    <tr style=\"text-align: right;\">\n",
       "      <th></th>\n",
       "      <th>heur</th>\n",
       "      <th>n0</th>\n",
       "      <th>GO_boost</th>\n",
       "    </tr>\n",
       "  </thead>\n",
       "  <tbody>\n",
       "    <tr>\n",
       "      <th>0</th>\n",
       "      <td>FSA_GO_n0=1</td>\n",
       "      <td>1</td>\n",
       "      <td>0.50</td>\n",
       "    </tr>\n",
       "    <tr>\n",
       "      <th>1</th>\n",
       "      <td>FSA_GO_n0=10</td>\n",
       "      <td>10</td>\n",
       "      <td>0.70</td>\n",
       "    </tr>\n",
       "    <tr>\n",
       "      <th>2</th>\n",
       "      <td>FSA_GO_n0=2</td>\n",
       "      <td>2</td>\n",
       "      <td>0.57</td>\n",
       "    </tr>\n",
       "    <tr>\n",
       "      <th>3</th>\n",
       "      <td>FSA_GO_n0=5</td>\n",
       "      <td>5</td>\n",
       "      <td>0.62</td>\n",
       "    </tr>\n",
       "  </tbody>\n",
       "</table>\n",
       "</div>"
      ],
      "text/plain": [
       "           heur  n0  GO_boost\n",
       "0   FSA_GO_n0=1   1      0.50\n",
       "1  FSA_GO_n0=10  10      0.70\n",
       "2   FSA_GO_n0=2   2      0.57\n",
       "3   FSA_GO_n0=5   5      0.62"
      ]
     },
     "execution_count": 55,
     "metadata": {},
     "output_type": "execute_result"
    }
   ],
   "source": [
    "stats_fsa_go_2B = results_fsa_go_2.pivot_table(\n",
    "    index=['heur', 'n0'],\n",
    "    values=['GO_boost'],\n",
    "    aggfunc=(go_boost)\n",
    ")['GO_boost']\n",
    "stats_fsa_go_2B = stats_fsa_go_2B.reset_index()\n",
    "stats_fsa_go_2B.sort_values(by='n0')\n",
    "stats_fsa_go_2B"
   ]
  },
  {
   "cell_type": "markdown",
   "metadata": {},
   "source": [
    "Optimization of the mixed heuristic provides the same results as optimization of the separated FSA and GO heuristics."
   ]
  },
  {
   "cell_type": "markdown",
   "metadata": {},
   "source": [
    "### Finding the FSA cut off"
   ]
  },
  {
   "cell_type": "code",
   "execution_count": 56,
   "metadata": {},
   "outputs": [],
   "source": [
    "def experiment_fsa_go_3(of, maxevalFsa, maxevalGo, num_runs, N, M, Tsel1, Tsel2, mutation, crossover, T0, n0, alpha):\n",
    "    results = []\n",
    "    heur_name = 'FSA_GO_{}'.format(maxevalFsa)\n",
    "    for i in tqdm_notebook(range(num_runs), 'Testing {}'.format(heur_name)):\n",
    "        result = FsaGoHeuristic(of=of, maxevalFsa=maxevalFsa, maxevalGo=maxevalGo, N=N, M=M, Tsel1=Tsel1, Tsel2=Tsel2, \n",
    "                                     mutation=mutation, crossover=crossover,\n",
    "                                        T0=T0, n0=n0, alpha=alpha).search()\n",
    "        result['run'] = i\n",
    "        result['heur'] = heur_name\n",
    "        result['maxevalFsa'] = maxevalFsa\n",
    "        results.append(result)\n",
    "    return pd.DataFrame(results, columns=['heur', 'run', 'maxevalFsa', 'best_x', 'best_y', 'neval', 'GO_boost'])"
   ]
  },
  {
   "cell_type": "code",
   "execution_count": 57,
   "metadata": {},
   "outputs": [
    {
     "data": {
      "application/vnd.jupyter.widget-view+json": {
       "model_id": "6c7d3f7809d14f86898669bca6b88c48",
       "version_major": 2,
       "version_minor": 0
      },
      "text/plain": [
       "HBox(children=(IntProgress(value=0, description='Testing FSA_GO_2', style=ProgressStyle(description_width='ini…"
      ]
     },
     "metadata": {},
     "output_type": "display_data"
    },
    {
     "name": "stdout",
     "output_type": "stream",
     "text": [
      "\n"
     ]
    },
    {
     "data": {
      "application/vnd.jupyter.widget-view+json": {
       "model_id": "55e6b945bb91414ba155a1edf1621001",
       "version_major": 2,
       "version_minor": 0
      },
      "text/plain": [
       "HBox(children=(IntProgress(value=0, description='Testing FSA_GO_5', style=ProgressStyle(description_width='ini…"
      ]
     },
     "metadata": {},
     "output_type": "display_data"
    },
    {
     "name": "stdout",
     "output_type": "stream",
     "text": [
      "\n"
     ]
    },
    {
     "data": {
      "application/vnd.jupyter.widget-view+json": {
       "model_id": "103ce56ad35b4c7186fdbecc52fd3546",
       "version_major": 2,
       "version_minor": 0
      },
      "text/plain": [
       "HBox(children=(IntProgress(value=0, description='Testing FSA_GO_10', style=ProgressStyle(description_width='in…"
      ]
     },
     "metadata": {},
     "output_type": "display_data"
    },
    {
     "name": "stdout",
     "output_type": "stream",
     "text": [
      "\n"
     ]
    },
    {
     "data": {
      "application/vnd.jupyter.widget-view+json": {
       "model_id": "d37be874a9fe47fda1325c5931d935cc",
       "version_major": 2,
       "version_minor": 0
      },
      "text/plain": [
       "HBox(children=(IntProgress(value=0, description='Testing FSA_GO_20', style=ProgressStyle(description_width='in…"
      ]
     },
     "metadata": {},
     "output_type": "display_data"
    },
    {
     "name": "stdout",
     "output_type": "stream",
     "text": [
      "\n"
     ]
    },
    {
     "data": {
      "application/vnd.jupyter.widget-view+json": {
       "model_id": "a94915e1cea6412aae12445fdbbb37a3",
       "version_major": 2,
       "version_minor": 0
      },
      "text/plain": [
       "HBox(children=(IntProgress(value=0, description='Testing FSA_GO_30', style=ProgressStyle(description_width='in…"
      ]
     },
     "metadata": {},
     "output_type": "display_data"
    },
    {
     "name": "stdout",
     "output_type": "stream",
     "text": [
      "\n"
     ]
    },
    {
     "data": {
      "application/vnd.jupyter.widget-view+json": {
       "model_id": "d9bceb5d7e744aea9f538bd6becd36fc",
       "version_major": 2,
       "version_minor": 0
      },
      "text/plain": [
       "HBox(children=(IntProgress(value=0, description='Testing FSA_GO_50', style=ProgressStyle(description_width='in…"
      ]
     },
     "metadata": {},
     "output_type": "display_data"
    },
    {
     "name": "stdout",
     "output_type": "stream",
     "text": [
      "\n"
     ]
    },
    {
     "data": {
      "application/vnd.jupyter.widget-view+json": {
       "model_id": "ee8126109a0b4946b8be104a9b290e47",
       "version_major": 2,
       "version_minor": 0
      },
      "text/plain": [
       "HBox(children=(IntProgress(value=0, description='Testing FSA_GO_100', style=ProgressStyle(description_width='i…"
      ]
     },
     "metadata": {},
     "output_type": "display_data"
    },
    {
     "name": "stdout",
     "output_type": "stream",
     "text": [
      "\n"
     ]
    },
    {
     "data": {
      "application/vnd.jupyter.widget-view+json": {
       "model_id": "2f28ef38f31e4df98862a8c330026565",
       "version_major": 2,
       "version_minor": 0
      },
      "text/plain": [
       "HBox(children=(IntProgress(value=0, description='Testing FSA_GO_200', style=ProgressStyle(description_width='i…"
      ]
     },
     "metadata": {},
     "output_type": "display_data"
    },
    {
     "name": "stdout",
     "output_type": "stream",
     "text": [
      "\n"
     ]
    },
    {
     "data": {
      "application/vnd.jupyter.widget-view+json": {
       "model_id": "81d0f073f7f54b9cb10efa3d0a4758f5",
       "version_major": 2,
       "version_minor": 0
      },
      "text/plain": [
       "HBox(children=(IntProgress(value=0, description='Testing FSA_GO_500', style=ProgressStyle(description_width='i…"
      ]
     },
     "metadata": {},
     "output_type": "display_data"
    },
    {
     "name": "stdout",
     "output_type": "stream",
     "text": [
      "\n"
     ]
    }
   ],
   "source": [
    "results_fsa_go_3 = pd.DataFrame()\n",
    "mutation = BinaryMutation(p=0.10, correction=Correction(scp))\n",
    "crossover = UniformMultipoint(1)\n",
    "for maxevalFsa in [2, 5, 10, 20, 30, 50, 100, 200, 500]:\n",
    "    res = experiment_fsa_go_3(of=scp, maxevalFsa=maxevalFsa, maxevalGo=maxevalGo, num_runs=NUM_RUNS, N=2, M=N*3, Tsel1=1e-10, Tsel2=1e-2, \n",
    "                        mutation=mutation, crossover=crossover, T0=1, n0=1, alpha=1)\n",
    "    results_fsa_go_3 = pd.concat([results_fsa_go_3, res], axis=0)"
   ]
  },
  {
   "cell_type": "code",
   "execution_count": 58,
   "metadata": {},
   "outputs": [
    {
     "data": {
      "text/html": [
       "<div>\n",
       "<style scoped>\n",
       "    .dataframe tbody tr th:only-of-type {\n",
       "        vertical-align: middle;\n",
       "    }\n",
       "\n",
       "    .dataframe tbody tr th {\n",
       "        vertical-align: top;\n",
       "    }\n",
       "\n",
       "    .dataframe thead th {\n",
       "        text-align: right;\n",
       "    }\n",
       "</style>\n",
       "<table border=\"1\" class=\"dataframe\">\n",
       "  <thead>\n",
       "    <tr style=\"text-align: right;\">\n",
       "      <th></th>\n",
       "      <th>heur</th>\n",
       "      <th>maxevalFsa</th>\n",
       "      <th>feo</th>\n",
       "      <th>mne</th>\n",
       "      <th>rel</th>\n",
       "    </tr>\n",
       "  </thead>\n",
       "  <tbody>\n",
       "    <tr>\n",
       "      <th>0</th>\n",
       "      <td>FSA_GO_10</td>\n",
       "      <td>10</td>\n",
       "      <td>461.721585</td>\n",
       "      <td>383.228916</td>\n",
       "      <td>0.83</td>\n",
       "    </tr>\n",
       "    <tr>\n",
       "      <th>1</th>\n",
       "      <td>FSA_GO_100</td>\n",
       "      <td>100</td>\n",
       "      <td>175.281133</td>\n",
       "      <td>171.775510</td>\n",
       "      <td>0.98</td>\n",
       "    </tr>\n",
       "    <tr>\n",
       "      <th>2</th>\n",
       "      <td>FSA_GO_2</td>\n",
       "      <td>2</td>\n",
       "      <td>447.493827</td>\n",
       "      <td>402.744444</td>\n",
       "      <td>0.90</td>\n",
       "    </tr>\n",
       "    <tr>\n",
       "      <th>3</th>\n",
       "      <td>FSA_GO_20</td>\n",
       "      <td>20</td>\n",
       "      <td>417.674858</td>\n",
       "      <td>384.260870</td>\n",
       "      <td>0.92</td>\n",
       "    </tr>\n",
       "    <tr>\n",
       "      <th>4</th>\n",
       "      <td>FSA_GO_200</td>\n",
       "      <td>200</td>\n",
       "      <td>130.060000</td>\n",
       "      <td>130.060000</td>\n",
       "      <td>1.00</td>\n",
       "    </tr>\n",
       "    <tr>\n",
       "      <th>5</th>\n",
       "      <td>FSA_GO_30</td>\n",
       "      <td>30</td>\n",
       "      <td>366.506173</td>\n",
       "      <td>329.855556</td>\n",
       "      <td>0.90</td>\n",
       "    </tr>\n",
       "    <tr>\n",
       "      <th>6</th>\n",
       "      <td>FSA_GO_5</td>\n",
       "      <td>5</td>\n",
       "      <td>417.169549</td>\n",
       "      <td>371.280899</td>\n",
       "      <td>0.89</td>\n",
       "    </tr>\n",
       "    <tr>\n",
       "      <th>7</th>\n",
       "      <td>FSA_GO_50</td>\n",
       "      <td>50</td>\n",
       "      <td>243.379501</td>\n",
       "      <td>231.210526</td>\n",
       "      <td>0.95</td>\n",
       "    </tr>\n",
       "    <tr>\n",
       "      <th>8</th>\n",
       "      <td>FSA_GO_500</td>\n",
       "      <td>500</td>\n",
       "      <td>106.630000</td>\n",
       "      <td>106.630000</td>\n",
       "      <td>1.00</td>\n",
       "    </tr>\n",
       "  </tbody>\n",
       "</table>\n",
       "</div>"
      ],
      "text/plain": [
       "         heur  maxevalFsa         feo         mne   rel\n",
       "0   FSA_GO_10          10  461.721585  383.228916  0.83\n",
       "1  FSA_GO_100         100  175.281133  171.775510  0.98\n",
       "2    FSA_GO_2           2  447.493827  402.744444  0.90\n",
       "3   FSA_GO_20          20  417.674858  384.260870  0.92\n",
       "4  FSA_GO_200         200  130.060000  130.060000  1.00\n",
       "5   FSA_GO_30          30  366.506173  329.855556  0.90\n",
       "6    FSA_GO_5           5  417.169549  371.280899  0.89\n",
       "7   FSA_GO_50          50  243.379501  231.210526  0.95\n",
       "8  FSA_GO_500         500  106.630000  106.630000  1.00"
      ]
     },
     "execution_count": 58,
     "metadata": {},
     "output_type": "execute_result"
    }
   ],
   "source": [
    "stats_fsa_go_3A = results_fsa_go_3.pivot_table(\n",
    "    index=['heur', 'maxevalFsa'],\n",
    "    values=['neval'],\n",
    "    aggfunc=(rel, mne, feo)\n",
    ")['neval']\n",
    "stats_fsa_go_3A = stats_fsa_go_3A.reset_index()\n",
    "stats_fsa_go_3A.sort_values(by='maxevalFsa')\n",
    "stats_fsa_go_3A"
   ]
  },
  {
   "cell_type": "code",
   "execution_count": 59,
   "metadata": {},
   "outputs": [
    {
     "data": {
      "text/html": [
       "<div>\n",
       "<style scoped>\n",
       "    .dataframe tbody tr th:only-of-type {\n",
       "        vertical-align: middle;\n",
       "    }\n",
       "\n",
       "    .dataframe tbody tr th {\n",
       "        vertical-align: top;\n",
       "    }\n",
       "\n",
       "    .dataframe thead th {\n",
       "        text-align: right;\n",
       "    }\n",
       "</style>\n",
       "<table border=\"1\" class=\"dataframe\">\n",
       "  <thead>\n",
       "    <tr style=\"text-align: right;\">\n",
       "      <th></th>\n",
       "      <th>heur</th>\n",
       "      <th>maxevalFsa</th>\n",
       "      <th>GO_boost</th>\n",
       "    </tr>\n",
       "  </thead>\n",
       "  <tbody>\n",
       "    <tr>\n",
       "      <th>0</th>\n",
       "      <td>FSA_GO_10</td>\n",
       "      <td>10</td>\n",
       "      <td>1.00</td>\n",
       "    </tr>\n",
       "    <tr>\n",
       "      <th>1</th>\n",
       "      <td>FSA_GO_100</td>\n",
       "      <td>100</td>\n",
       "      <td>0.20</td>\n",
       "    </tr>\n",
       "    <tr>\n",
       "      <th>2</th>\n",
       "      <td>FSA_GO_2</td>\n",
       "      <td>2</td>\n",
       "      <td>0.97</td>\n",
       "    </tr>\n",
       "    <tr>\n",
       "      <th>3</th>\n",
       "      <td>FSA_GO_20</td>\n",
       "      <td>20</td>\n",
       "      <td>0.93</td>\n",
       "    </tr>\n",
       "    <tr>\n",
       "      <th>4</th>\n",
       "      <td>FSA_GO_200</td>\n",
       "      <td>200</td>\n",
       "      <td>0.02</td>\n",
       "    </tr>\n",
       "    <tr>\n",
       "      <th>5</th>\n",
       "      <td>FSA_GO_30</td>\n",
       "      <td>30</td>\n",
       "      <td>0.74</td>\n",
       "    </tr>\n",
       "    <tr>\n",
       "      <th>6</th>\n",
       "      <td>FSA_GO_5</td>\n",
       "      <td>5</td>\n",
       "      <td>1.00</td>\n",
       "    </tr>\n",
       "    <tr>\n",
       "      <th>7</th>\n",
       "      <td>FSA_GO_50</td>\n",
       "      <td>50</td>\n",
       "      <td>0.45</td>\n",
       "    </tr>\n",
       "    <tr>\n",
       "      <th>8</th>\n",
       "      <td>FSA_GO_500</td>\n",
       "      <td>500</td>\n",
       "      <td>0.00</td>\n",
       "    </tr>\n",
       "  </tbody>\n",
       "</table>\n",
       "</div>"
      ],
      "text/plain": [
       "         heur  maxevalFsa  GO_boost\n",
       "0   FSA_GO_10          10      1.00\n",
       "1  FSA_GO_100         100      0.20\n",
       "2    FSA_GO_2           2      0.97\n",
       "3   FSA_GO_20          20      0.93\n",
       "4  FSA_GO_200         200      0.02\n",
       "5   FSA_GO_30          30      0.74\n",
       "6    FSA_GO_5           5      1.00\n",
       "7   FSA_GO_50          50      0.45\n",
       "8  FSA_GO_500         500      0.00"
      ]
     },
     "execution_count": 59,
     "metadata": {},
     "output_type": "execute_result"
    }
   ],
   "source": [
    "stats_fsa_go_3B = results_fsa_go_3.pivot_table(\n",
    "    index=['heur', 'maxevalFsa'],\n",
    "    values=['GO_boost'],\n",
    "    aggfunc=(go_boost)\n",
    ")['GO_boost']\n",
    "stats_fsa_go_3B = stats_fsa_go_3B.reset_index()\n",
    "stats_fsa_go_3B.sort_values(by='maxevalFsa')\n",
    "stats_fsa_go_3B"
   ]
  },
  {
   "cell_type": "markdown",
   "metadata": {},
   "source": [
    "With respect to the result, we should cut off the FSA initialization after 500 evaluations (or maybe more). However, it means that we should completely eliminate the Geneteric Optimization and let the FSA heuristic calculate the solution."
   ]
  },
  {
   "cell_type": "markdown",
   "metadata": {},
   "source": [
    "The optimal parameters of the mixed heuristic are following:\n",
    "* FSA max evaluations    : >500\n",
    "* Initial temperature    : T0 = 1\n",
    "* Mutation probability   : p = 0.10\n",
    "* Size of the population : N = 2\n",
    "* Cooling parameters :\n",
    "    - n0 = 1\n",
    "    - alpha = 1\n",
    "* Selection temperatures :\n",
    "    - Tsel1 = 1e-10\n",
    "    - Tsel2 = 1e-2"
   ]
  },
  {
   "cell_type": "code",
   "execution_count": 60,
   "metadata": {},
   "outputs": [
    {
     "name": "stdout",
     "output_type": "stream",
     "text": [
      "neval = 63\n",
      "best_x = [1. 0. 0. 0. 0. 1. 1. 0. 0. 0. 0. 0. 0. 0. 0. 0.]\n",
      "best_y = 3.0\n"
     ]
    }
   ],
   "source": [
    "mutation = BinaryMutation(p=0.10, correction=Correction(scp))\n",
    "heur = FsaGoHeuristic(of=scp, maxevalFsa=500, maxevalGo=maxevalGo, N=2, M=6, Tsel1=10e-10, Tsel2=1e-2, \n",
    "                                     mutation=mutation, crossover=crossover,\n",
    "                                        T0=1, n0=1, alpha=1)\n",
    "result = heur.search()\n",
    "print('neval = {}'.format(result['neval']))\n",
    "print('best_x = {}'.format(result['best_x']))\n",
    "print('best_y = {}'.format(result['best_y']))"
   ]
  },
  {
   "cell_type": "markdown",
   "metadata": {},
   "source": [
    "## Results"
   ]
  },
  {
   "cell_type": "markdown",
   "metadata": {},
   "source": [
    "Shoot and Go result:"
   ]
  },
  {
   "cell_type": "code",
   "execution_count": 61,
   "metadata": {},
   "outputs": [
    {
     "data": {
      "text/html": [
       "<div>\n",
       "<style scoped>\n",
       "    .dataframe tbody tr th:only-of-type {\n",
       "        vertical-align: middle;\n",
       "    }\n",
       "\n",
       "    .dataframe tbody tr th {\n",
       "        vertical-align: top;\n",
       "    }\n",
       "\n",
       "    .dataframe thead th {\n",
       "        text-align: right;\n",
       "    }\n",
       "</style>\n",
       "<table border=\"1\" class=\"dataframe\">\n",
       "  <thead>\n",
       "    <tr style=\"text-align: right;\">\n",
       "      <th></th>\n",
       "      <th>heur</th>\n",
       "      <th>feo</th>\n",
       "      <th>mne</th>\n",
       "      <th>rel</th>\n",
       "    </tr>\n",
       "  </thead>\n",
       "  <tbody>\n",
       "    <tr>\n",
       "      <th>0</th>\n",
       "      <td>SG_0</td>\n",
       "      <td>2121.440000</td>\n",
       "      <td>530.360000</td>\n",
       "      <td>0.25</td>\n",
       "    </tr>\n",
       "    <tr>\n",
       "      <th>1</th>\n",
       "      <td>SG_inf</td>\n",
       "      <td>255.024997</td>\n",
       "      <td>252.474747</td>\n",
       "      <td>0.99</td>\n",
       "    </tr>\n",
       "  </tbody>\n",
       "</table>\n",
       "</div>"
      ],
      "text/plain": [
       "     heur          feo         mne   rel\n",
       "0    SG_0  2121.440000  530.360000  0.25\n",
       "1  SG_inf   255.024997  252.474747  0.99"
      ]
     },
     "execution_count": 61,
     "metadata": {},
     "output_type": "execute_result"
    }
   ],
   "source": [
    "stats_sg"
   ]
  },
  {
   "cell_type": "markdown",
   "metadata": {},
   "source": [
    "Fast Simulated Annealing heuristic result:"
   ]
  },
  {
   "cell_type": "code",
   "execution_count": 62,
   "metadata": {},
   "outputs": [
    {
     "data": {
      "text/html": [
       "<div>\n",
       "<style scoped>\n",
       "    .dataframe tbody tr th:only-of-type {\n",
       "        vertical-align: middle;\n",
       "    }\n",
       "\n",
       "    .dataframe tbody tr th {\n",
       "        vertical-align: top;\n",
       "    }\n",
       "\n",
       "    .dataframe thead th {\n",
       "        text-align: right;\n",
       "    }\n",
       "</style>\n",
       "<table border=\"1\" class=\"dataframe\">\n",
       "  <thead>\n",
       "    <tr style=\"text-align: right;\">\n",
       "      <th></th>\n",
       "      <th>heur</th>\n",
       "      <th>alpha</th>\n",
       "      <th>feo</th>\n",
       "      <th>mne</th>\n",
       "      <th>rel</th>\n",
       "    </tr>\n",
       "  </thead>\n",
       "  <tbody>\n",
       "    <tr>\n",
       "      <th>1</th>\n",
       "      <td>FSA_1_1_10_0.1</td>\n",
       "      <td>10.0</td>\n",
       "      <td>97.82</td>\n",
       "      <td>97.82</td>\n",
       "      <td>1.0</td>\n",
       "    </tr>\n",
       "  </tbody>\n",
       "</table>\n",
       "</div>"
      ],
      "text/plain": [
       "             heur  alpha    feo    mne  rel\n",
       "1  FSA_1_1_10_0.1   10.0  97.82  97.82  1.0"
      ]
     },
     "execution_count": 62,
     "metadata": {},
     "output_type": "execute_result"
    }
   ],
   "source": [
    "stats_fsa.sort_values(by=['feo']).head(1)"
   ]
  },
  {
   "cell_type": "markdown",
   "metadata": {},
   "source": [
    "Genetic Optimization heuristic result:"
   ]
  },
  {
   "cell_type": "code",
   "execution_count": 63,
   "metadata": {},
   "outputs": [
    {
     "data": {
      "text/html": [
       "<div>\n",
       "<style scoped>\n",
       "    .dataframe tbody tr th:only-of-type {\n",
       "        vertical-align: middle;\n",
       "    }\n",
       "\n",
       "    .dataframe tbody tr th {\n",
       "        vertical-align: top;\n",
       "    }\n",
       "\n",
       "    .dataframe thead th {\n",
       "        text-align: right;\n",
       "    }\n",
       "</style>\n",
       "<table border=\"1\" class=\"dataframe\">\n",
       "  <thead>\n",
       "    <tr style=\"text-align: right;\">\n",
       "      <th></th>\n",
       "      <th>heur</th>\n",
       "      <th>p</th>\n",
       "      <th>feo</th>\n",
       "      <th>mne</th>\n",
       "      <th>rel</th>\n",
       "    </tr>\n",
       "  </thead>\n",
       "  <tbody>\n",
       "    <tr>\n",
       "      <th>3</th>\n",
       "      <td>GO_p=0.1</td>\n",
       "      <td>0.1</td>\n",
       "      <td>116.92</td>\n",
       "      <td>116.92</td>\n",
       "      <td>1.0</td>\n",
       "    </tr>\n",
       "  </tbody>\n",
       "</table>\n",
       "</div>"
      ],
      "text/plain": [
       "       heur    p     feo     mne  rel\n",
       "3  GO_p=0.1  0.1  116.92  116.92  1.0"
      ]
     },
     "execution_count": 63,
     "metadata": {},
     "output_type": "execute_result"
    }
   ],
   "source": [
    "stats_go_2.sort_values(by=['feo']).head(1)"
   ]
  },
  {
   "cell_type": "markdown",
   "metadata": {},
   "source": [
    "Mixed (GO + FSA) heuristic result:"
   ]
  },
  {
   "cell_type": "code",
   "execution_count": 64,
   "metadata": {},
   "outputs": [
    {
     "data": {
      "text/html": [
       "<div>\n",
       "<style scoped>\n",
       "    .dataframe tbody tr th:only-of-type {\n",
       "        vertical-align: middle;\n",
       "    }\n",
       "\n",
       "    .dataframe tbody tr th {\n",
       "        vertical-align: top;\n",
       "    }\n",
       "\n",
       "    .dataframe thead th {\n",
       "        text-align: right;\n",
       "    }\n",
       "</style>\n",
       "<table border=\"1\" class=\"dataframe\">\n",
       "  <thead>\n",
       "    <tr style=\"text-align: right;\">\n",
       "      <th></th>\n",
       "      <th>heur</th>\n",
       "      <th>maxevalFsa</th>\n",
       "      <th>feo</th>\n",
       "      <th>mne</th>\n",
       "      <th>rel</th>\n",
       "    </tr>\n",
       "  </thead>\n",
       "  <tbody>\n",
       "    <tr>\n",
       "      <th>8</th>\n",
       "      <td>FSA_GO_500</td>\n",
       "      <td>500</td>\n",
       "      <td>106.63</td>\n",
       "      <td>106.63</td>\n",
       "      <td>1.0</td>\n",
       "    </tr>\n",
       "  </tbody>\n",
       "</table>\n",
       "</div>"
      ],
      "text/plain": [
       "         heur  maxevalFsa     feo     mne  rel\n",
       "8  FSA_GO_500         500  106.63  106.63  1.0"
      ]
     },
     "execution_count": 64,
     "metadata": {},
     "output_type": "execute_result"
    }
   ],
   "source": [
    "stats_fsa_go_3A.sort_values(by=['feo']).head(1)"
   ]
  },
  {
   "cell_type": "markdown",
   "metadata": {},
   "source": [
    "## Conclusion"
   ]
  },
  {
   "cell_type": "markdown",
   "metadata": {},
   "source": [
    "1. Based on the FEO values, the best heuristics solving the SCP problem is the FSA heuristics.\n",
    "2. The mixed heuristics is the second best heuristics because it involves the FSA in the first phase. Moreover, its optimization process eliminates the second phase (i.e. the GO heuristics). Thus, the result is calculated only by the FSA.\n",
    "3. Using the mixed approach, we can achieve better results than in the RandomShooting heuristics. However, it is because of the built-in FSA taking control over the problem.\n",
    "4. The mixed approach is definitely not better than FSA in this particular case.\n",
    "5. The mixed heuristics can be useful only for making decision about which heuristics should be used (FSA or GO). Besides that, this heuristics does not provide any additional benefits."
   ]
  },
  {
   "cell_type": "code",
   "execution_count": null,
   "metadata": {},
   "outputs": [],
   "source": []
  }
 ],
 "metadata": {
  "kernelspec": {
   "display_name": "Python 3",
   "language": "python",
   "name": "python3"
  },
  "language_info": {
   "codemirror_mode": {
    "name": "ipython",
    "version": 3
   },
   "file_extension": ".py",
   "mimetype": "text/x-python",
   "name": "python",
   "nbconvert_exporter": "python",
   "pygments_lexer": "ipython3",
   "version": "3.7.2"
  }
 },
 "nbformat": 4,
 "nbformat_minor": 1
}
